{
 "cells": [
  {
   "cell_type": "markdown",
   "metadata": {},
   "source": [
    "\n",
    "# Regressão Logística I\n",
    "## Tarefa II\n",
    "\n",
    "Vamos trabalhar com a mesma base do exercício anterior, mas vamos aprofundar um pouco mais a nossa regressão."
   ]
  },
  {
   "cell_type": "code",
   "execution_count": 37,
   "metadata": {},
   "outputs": [],
   "source": [
    "import pandas as pd\n",
    "import seaborn as sns\n",
    "import matplotlib.pyplot as plt\n",
    "import numpy as np\n",
    "\n",
    "import statsmodels.formula.api as smf"
   ]
  },
  {
   "cell_type": "code",
   "execution_count": 38,
   "metadata": {
    "tags": []
   },
   "outputs": [
    {
     "data": {
      "text/html": [
       "<div>\n",
       "<style scoped>\n",
       "    .dataframe tbody tr th:only-of-type {\n",
       "        vertical-align: middle;\n",
       "    }\n",
       "\n",
       "    .dataframe tbody tr th {\n",
       "        vertical-align: top;\n",
       "    }\n",
       "\n",
       "    .dataframe thead th {\n",
       "        text-align: right;\n",
       "    }\n",
       "</style>\n",
       "<table border=\"1\" class=\"dataframe\">\n",
       "  <thead>\n",
       "    <tr style=\"text-align: right;\">\n",
       "      <th></th>\n",
       "      <th>age</th>\n",
       "      <th>sex</th>\n",
       "      <th>cp</th>\n",
       "      <th>trestbps</th>\n",
       "      <th>chol</th>\n",
       "      <th>fbs</th>\n",
       "      <th>restecg</th>\n",
       "      <th>thalach</th>\n",
       "      <th>exang</th>\n",
       "      <th>oldpeak</th>\n",
       "      <th>slope</th>\n",
       "      <th>ca</th>\n",
       "      <th>thal</th>\n",
       "      <th>num</th>\n",
       "      <th>flag_doente</th>\n",
       "    </tr>\n",
       "  </thead>\n",
       "  <tbody>\n",
       "    <tr>\n",
       "      <th>0</th>\n",
       "      <td>63.0</td>\n",
       "      <td>1.0</td>\n",
       "      <td>1.0</td>\n",
       "      <td>145.0</td>\n",
       "      <td>233.0</td>\n",
       "      <td>1.0</td>\n",
       "      <td>2.0</td>\n",
       "      <td>150.0</td>\n",
       "      <td>0.0</td>\n",
       "      <td>2.3</td>\n",
       "      <td>3.0</td>\n",
       "      <td>0.0</td>\n",
       "      <td>6.0</td>\n",
       "      <td>0</td>\n",
       "      <td>0</td>\n",
       "    </tr>\n",
       "    <tr>\n",
       "      <th>1</th>\n",
       "      <td>67.0</td>\n",
       "      <td>1.0</td>\n",
       "      <td>4.0</td>\n",
       "      <td>160.0</td>\n",
       "      <td>286.0</td>\n",
       "      <td>0.0</td>\n",
       "      <td>2.0</td>\n",
       "      <td>108.0</td>\n",
       "      <td>1.0</td>\n",
       "      <td>1.5</td>\n",
       "      <td>2.0</td>\n",
       "      <td>3.0</td>\n",
       "      <td>3.0</td>\n",
       "      <td>2</td>\n",
       "      <td>1</td>\n",
       "    </tr>\n",
       "    <tr>\n",
       "      <th>2</th>\n",
       "      <td>67.0</td>\n",
       "      <td>1.0</td>\n",
       "      <td>4.0</td>\n",
       "      <td>120.0</td>\n",
       "      <td>229.0</td>\n",
       "      <td>0.0</td>\n",
       "      <td>2.0</td>\n",
       "      <td>129.0</td>\n",
       "      <td>1.0</td>\n",
       "      <td>2.6</td>\n",
       "      <td>2.0</td>\n",
       "      <td>2.0</td>\n",
       "      <td>7.0</td>\n",
       "      <td>1</td>\n",
       "      <td>1</td>\n",
       "    </tr>\n",
       "    <tr>\n",
       "      <th>3</th>\n",
       "      <td>37.0</td>\n",
       "      <td>1.0</td>\n",
       "      <td>3.0</td>\n",
       "      <td>130.0</td>\n",
       "      <td>250.0</td>\n",
       "      <td>0.0</td>\n",
       "      <td>0.0</td>\n",
       "      <td>187.0</td>\n",
       "      <td>0.0</td>\n",
       "      <td>3.5</td>\n",
       "      <td>3.0</td>\n",
       "      <td>0.0</td>\n",
       "      <td>3.0</td>\n",
       "      <td>0</td>\n",
       "      <td>0</td>\n",
       "    </tr>\n",
       "    <tr>\n",
       "      <th>4</th>\n",
       "      <td>41.0</td>\n",
       "      <td>0.0</td>\n",
       "      <td>2.0</td>\n",
       "      <td>130.0</td>\n",
       "      <td>204.0</td>\n",
       "      <td>0.0</td>\n",
       "      <td>2.0</td>\n",
       "      <td>172.0</td>\n",
       "      <td>0.0</td>\n",
       "      <td>1.4</td>\n",
       "      <td>1.0</td>\n",
       "      <td>0.0</td>\n",
       "      <td>3.0</td>\n",
       "      <td>0</td>\n",
       "      <td>0</td>\n",
       "    </tr>\n",
       "  </tbody>\n",
       "</table>\n",
       "</div>"
      ],
      "text/plain": [
       "    age  sex   cp  trestbps   chol  fbs  restecg  thalach  exang  oldpeak  \\\n",
       "0  63.0  1.0  1.0     145.0  233.0  1.0      2.0    150.0    0.0      2.3   \n",
       "1  67.0  1.0  4.0     160.0  286.0  0.0      2.0    108.0    1.0      1.5   \n",
       "2  67.0  1.0  4.0     120.0  229.0  0.0      2.0    129.0    1.0      2.6   \n",
       "3  37.0  1.0  3.0     130.0  250.0  0.0      0.0    187.0    0.0      3.5   \n",
       "4  41.0  0.0  2.0     130.0  204.0  0.0      2.0    172.0    0.0      1.4   \n",
       "\n",
       "   slope   ca thal  num  flag_doente  \n",
       "0    3.0  0.0  6.0    0            0  \n",
       "1    2.0  3.0  3.0    2            1  \n",
       "2    2.0  2.0  7.0    1            1  \n",
       "3    3.0  0.0  3.0    0            0  \n",
       "4    1.0  0.0  3.0    0            0  "
      ]
     },
     "execution_count": 38,
     "metadata": {},
     "output_type": "execute_result"
    }
   ],
   "source": [
    "url = 'https://archive.ics.uci.edu/ml/machine-learning-databases/heart-disease/processed.cleveland.data'\n",
    "\n",
    "df = pd.read_csv(url, \n",
    "                 names=['age', 'sex', 'cp', 'trestbps', 'chol', 'fbs', 'restecg',\n",
    "                        'thalach', 'exang', 'oldpeak', 'slope', 'ca', 'thal', 'num'])\n",
    "df['flag_doente'] = (df['num']!=0).astype('int64')\n",
    "df.head()"
   ]
  },
  {
   "cell_type": "markdown",
   "metadata": {},
   "source": [
    "Feito a leitura do df, irei criar uma cópia dele para melhor manipular na hora de fazer as crosstab. "
   ]
  },
  {
   "cell_type": "code",
   "execution_count": 39,
   "metadata": {},
   "outputs": [],
   "source": [
    "# Criar uma cópia do DataFrame 'df'\n",
    "df_copy = df.copy()"
   ]
  },
  {
   "cell_type": "markdown",
   "metadata": {},
   "source": [
    "A descrição das variáveis está recortada abaixo:\n",
    "- age: idade do paciente em anos\n",
    "- sex: sexo (1 = male; 0 = female)  \n",
    "- cp: tipo de dor no peito\n",
    "  - 1: angina típica\n",
    "  - 2: angina atípica\n",
    "  - 3: dor não-angina\n",
    "  - 4: assintomático\n",
    "- trestbps: pressão sanguínea em repouso (em mm Hg na admissão ao hospital\n",
    "- chol: colesterol sérico em mg/dl\n",
    "- fbs: (açúcar no sangue em jejum > 120 mg/dl) (1 = True; 0 = False)\n",
    "- restecg: resultados eletrocardiográficos em repouso\n",
    "  - 0: normal\n",
    "  - 1: tendo anormalidade da onda ST-T (Inversões de onda T e / ou ST com elevação ou depressão de > 0.05 mV)\n",
    "  - 2: mostrando hipertrofia ventricular esquerda provável ou definitiva pelos critérios de Estes\n",
    "- thalach: frequência cardíaca máxima alcançada\n",
    "- exang: angina induzida por exercício(1 = sim; 0 = não)\n",
    "- oldpeak = Depressão de ST induzida por exercício em relação ao repouso\n",
    "- slope: Depressão de ST induzida por exercício em relação ao repouso\n",
    "  - 1: inclinação ascendente\n",
    "  - 2: estável\n",
    "  - 3: inclinação descendente\n",
    "- ca: número de vasos principais (0-3) coloridos por fluorosopia\n",
    "- thal: 3 = normal; 6 = defeito corrigido; 7 = defeito reversível\n",
    "- num: diagnóstico de doença cardíaga (status de doença angiográfica)"
   ]
  },
  {
   "cell_type": "markdown",
   "metadata": {},
   "source": [
    "1. Considere o script que monta a análise bivariada que você fez na tarefa anterior. Transforme esse script em uma função, que deve:\n",
    "- Ter como parâmetros de entrada:\n",
    "    - Um *dataframe* contendo os dados a serem avaliados\n",
    "    - Um *string* contendo o nome da variável resposta\n",
    "    - Um *string* contendo o nome da variável explicativa\n",
    "- E deve retornar um *dataframe* com os dados da bivariada. \n",
    "**Monte** a mesma bivariada pelo menos três variáveis qualitativas do *data-frame*. Qual delas parece discriminar mais o risco?"
   ]
  },
  {
   "cell_type": "markdown",
   "metadata": {},
   "source": [
    "Vamos lá, para iniciar vamos substituir as dummies de sex por 'homem' e 'mulher', sendo 0 masc e 1 fem. "
   ]
  },
  {
   "cell_type": "code",
   "execution_count": 40,
   "metadata": {},
   "outputs": [],
   "source": [
    "# Substituir 0 por 'masc' e 1 por 'fem' na coluna 'sex'\n",
    "df_copy['sex'] = df_copy['sex'].replace({1: 'masc', 0: 'fem'})\n",
    "df_copy['flag_doente'] = df_copy['flag_doente'].replace({0: 'saudável', 1: 'doente'})"
   ]
  },
  {
   "cell_type": "code",
   "execution_count": 41,
   "metadata": {},
   "outputs": [],
   "source": [
    "def tabela_cruzada (df, variavel_independente, variavel_dependente):\n",
    "\n",
    "    # Calcula a tabela cruzada com margens\n",
    "    tab = pd.crosstab(df_copy[variavel_independente], df_copy[variavel_dependente], margins=True)\n",
    "    \n",
    "    # Calcula o percentual de doentes\n",
    "    tab['percentual_doentes'] = tab['doente'] / tab['All']\n",
    "    \n",
    "    # Calcula a chance de ser doente\n",
    "    tab['chance_ser_doente'] = tab['doente'] / tab['saudável']\n",
    "    \n",
    "    # Calcula a razão de chance (RC) em relação a todos os dados\n",
    "    tab['RC_vs_All'] = tab['chance_ser_doente'] / tab.loc['All', 'chance_ser_doente']\n",
    "    \n",
    "    # Calcula o log da razão de chance (RC)\n",
    "    tab['LOG: RC_vs_All'] = np.log(tab['RC_vs_All'])\n",
    "    \n",
    "    return tab"
   ]
  },
  {
   "cell_type": "markdown",
   "metadata": {},
   "source": [
    "Agora que criamos a função, vamos testá-la com pelo menos três variáveis. A primeira, será a mesma já testada no exercício anterior, apenas para conferir se iremos obter os mesmos resultados. Vamos iniciar então pela variável 'sex':"
   ]
  },
  {
   "cell_type": "code",
   "execution_count": 42,
   "metadata": {},
   "outputs": [
    {
     "data": {
      "text/html": [
       "<div>\n",
       "<style scoped>\n",
       "    .dataframe tbody tr th:only-of-type {\n",
       "        vertical-align: middle;\n",
       "    }\n",
       "\n",
       "    .dataframe tbody tr th {\n",
       "        vertical-align: top;\n",
       "    }\n",
       "\n",
       "    .dataframe thead th {\n",
       "        text-align: right;\n",
       "    }\n",
       "</style>\n",
       "<table border=\"1\" class=\"dataframe\">\n",
       "  <thead>\n",
       "    <tr style=\"text-align: right;\">\n",
       "      <th>flag_doente</th>\n",
       "      <th>doente</th>\n",
       "      <th>saudável</th>\n",
       "      <th>All</th>\n",
       "      <th>percentual_doentes</th>\n",
       "      <th>chance_ser_doente</th>\n",
       "      <th>RC_vs_All</th>\n",
       "      <th>LOG: RC_vs_All</th>\n",
       "    </tr>\n",
       "    <tr>\n",
       "      <th>sex</th>\n",
       "      <th></th>\n",
       "      <th></th>\n",
       "      <th></th>\n",
       "      <th></th>\n",
       "      <th></th>\n",
       "      <th></th>\n",
       "      <th></th>\n",
       "    </tr>\n",
       "  </thead>\n",
       "  <tbody>\n",
       "    <tr>\n",
       "      <th>fem</th>\n",
       "      <td>25</td>\n",
       "      <td>72</td>\n",
       "      <td>97</td>\n",
       "      <td>0.257732</td>\n",
       "      <td>0.347222</td>\n",
       "      <td>0.409672</td>\n",
       "      <td>-0.892398</td>\n",
       "    </tr>\n",
       "    <tr>\n",
       "      <th>masc</th>\n",
       "      <td>114</td>\n",
       "      <td>92</td>\n",
       "      <td>206</td>\n",
       "      <td>0.553398</td>\n",
       "      <td>1.239130</td>\n",
       "      <td>1.461996</td>\n",
       "      <td>0.379802</td>\n",
       "    </tr>\n",
       "    <tr>\n",
       "      <th>All</th>\n",
       "      <td>139</td>\n",
       "      <td>164</td>\n",
       "      <td>303</td>\n",
       "      <td>0.458746</td>\n",
       "      <td>0.847561</td>\n",
       "      <td>1.000000</td>\n",
       "      <td>0.000000</td>\n",
       "    </tr>\n",
       "  </tbody>\n",
       "</table>\n",
       "</div>"
      ],
      "text/plain": [
       "flag_doente  doente  saudável  All  percentual_doentes  chance_ser_doente  \\\n",
       "sex                                                                         \n",
       "fem              25        72   97            0.257732           0.347222   \n",
       "masc            114        92  206            0.553398           1.239130   \n",
       "All             139       164  303            0.458746           0.847561   \n",
       "\n",
       "flag_doente  RC_vs_All  LOG: RC_vs_All  \n",
       "sex                                     \n",
       "fem           0.409672       -0.892398  \n",
       "masc          1.461996        0.379802  \n",
       "All           1.000000        0.000000  "
      ]
     },
     "execution_count": 42,
     "metadata": {},
     "output_type": "execute_result"
    }
   ],
   "source": [
    "resultado1 = tabela_cruzada(df_copy, 'sex', 'flag_doente')\n",
    "resultado1"
   ]
  },
  {
   "cell_type": "markdown",
   "metadata": {},
   "source": [
    "Esse primeiro resultado é bastante discriminatório, pois realmente há uma diferença enorme nas estatísticas para homens e mulheres, aqui podemos claramente perceber que o sexo feminino tem uma chance muito maior de possuir doenças cardíacas."
   ]
  },
  {
   "cell_type": "markdown",
   "metadata": {},
   "source": [
    "Agora vamos para a análise da segunda varável, 'exang'. Essa variável se refere à angina induzida por exercício, ou seja, uma forte dor toráxica ao realizar exercícios, temos 1 para sim e 0 para não, para facilitar essa observação, faremos a troca no nosso df e em seguida aplicaremos a função para obter nosso dataframe com as estatísticas desejadas:"
   ]
  },
  {
   "cell_type": "code",
   "execution_count": 43,
   "metadata": {},
   "outputs": [],
   "source": [
    "df_copy['exang'] = df_copy['exang'].replace({1: 'sim', 0: 'não'})"
   ]
  },
  {
   "cell_type": "code",
   "execution_count": 44,
   "metadata": {},
   "outputs": [
    {
     "data": {
      "text/html": [
       "<div>\n",
       "<style scoped>\n",
       "    .dataframe tbody tr th:only-of-type {\n",
       "        vertical-align: middle;\n",
       "    }\n",
       "\n",
       "    .dataframe tbody tr th {\n",
       "        vertical-align: top;\n",
       "    }\n",
       "\n",
       "    .dataframe thead th {\n",
       "        text-align: right;\n",
       "    }\n",
       "</style>\n",
       "<table border=\"1\" class=\"dataframe\">\n",
       "  <thead>\n",
       "    <tr style=\"text-align: right;\">\n",
       "      <th>flag_doente</th>\n",
       "      <th>doente</th>\n",
       "      <th>saudável</th>\n",
       "      <th>All</th>\n",
       "      <th>percentual_doentes</th>\n",
       "      <th>chance_ser_doente</th>\n",
       "      <th>RC_vs_All</th>\n",
       "      <th>LOG: RC_vs_All</th>\n",
       "    </tr>\n",
       "    <tr>\n",
       "      <th>exang</th>\n",
       "      <th></th>\n",
       "      <th></th>\n",
       "      <th></th>\n",
       "      <th></th>\n",
       "      <th></th>\n",
       "      <th></th>\n",
       "      <th></th>\n",
       "    </tr>\n",
       "  </thead>\n",
       "  <tbody>\n",
       "    <tr>\n",
       "      <th>não</th>\n",
       "      <td>63</td>\n",
       "      <td>141</td>\n",
       "      <td>204</td>\n",
       "      <td>0.308824</td>\n",
       "      <td>0.446809</td>\n",
       "      <td>0.527170</td>\n",
       "      <td>-0.640233</td>\n",
       "    </tr>\n",
       "    <tr>\n",
       "      <th>sim</th>\n",
       "      <td>76</td>\n",
       "      <td>23</td>\n",
       "      <td>99</td>\n",
       "      <td>0.767677</td>\n",
       "      <td>3.304348</td>\n",
       "      <td>3.898655</td>\n",
       "      <td>1.360632</td>\n",
       "    </tr>\n",
       "    <tr>\n",
       "      <th>All</th>\n",
       "      <td>139</td>\n",
       "      <td>164</td>\n",
       "      <td>303</td>\n",
       "      <td>0.458746</td>\n",
       "      <td>0.847561</td>\n",
       "      <td>1.000000</td>\n",
       "      <td>0.000000</td>\n",
       "    </tr>\n",
       "  </tbody>\n",
       "</table>\n",
       "</div>"
      ],
      "text/plain": [
       "flag_doente  doente  saudável  All  percentual_doentes  chance_ser_doente  \\\n",
       "exang                                                                       \n",
       "não              63       141  204            0.308824           0.446809   \n",
       "sim              76        23   99            0.767677           3.304348   \n",
       "All             139       164  303            0.458746           0.847561   \n",
       "\n",
       "flag_doente  RC_vs_All  LOG: RC_vs_All  \n",
       "exang                                   \n",
       "não           0.527170       -0.640233  \n",
       "sim           3.898655        1.360632  \n",
       "All           1.000000        0.000000  "
      ]
     },
     "execution_count": 44,
     "metadata": {},
     "output_type": "execute_result"
    }
   ],
   "source": [
    "resultado2 = tabela_cruzada(df_copy, 'exang', 'flag_doente')\n",
    "resultado2"
   ]
  },
  {
   "cell_type": "markdown",
   "metadata": {},
   "source": [
    "Obtemos aqui, mais uma variável bastante discriminatória, o que faz total sentido. Dos que sentem fortes dores toráxicas ao fazer exercícios, 76% apresenta doença cardiáca e dos que não sentem, apenas 30% apresenta. Então temos aqui um ótimo indicador. "
   ]
  },
  {
   "cell_type": "markdown",
   "metadata": {},
   "source": [
    "Agora, vamos analisar o efeito da variável 'restecg', variável referente aos resultados dos eletrocardiogramas, aonde temos 0 para normal, 1 para anomalias e 2 para hipertrofia provável ou definitiva."
   ]
  },
  {
   "cell_type": "code",
   "execution_count": 45,
   "metadata": {},
   "outputs": [],
   "source": [
    "df_copy['restecg'] = df_copy['restecg'].replace({ 0.0: 'normal', 1.0: 'anormal', 2.0:'hipertrofia prov'})"
   ]
  },
  {
   "cell_type": "code",
   "execution_count": 46,
   "metadata": {},
   "outputs": [
    {
     "data": {
      "text/html": [
       "<div>\n",
       "<style scoped>\n",
       "    .dataframe tbody tr th:only-of-type {\n",
       "        vertical-align: middle;\n",
       "    }\n",
       "\n",
       "    .dataframe tbody tr th {\n",
       "        vertical-align: top;\n",
       "    }\n",
       "\n",
       "    .dataframe thead th {\n",
       "        text-align: right;\n",
       "    }\n",
       "</style>\n",
       "<table border=\"1\" class=\"dataframe\">\n",
       "  <thead>\n",
       "    <tr style=\"text-align: right;\">\n",
       "      <th>flag_doente</th>\n",
       "      <th>doente</th>\n",
       "      <th>saudável</th>\n",
       "      <th>All</th>\n",
       "      <th>percentual_doentes</th>\n",
       "      <th>chance_ser_doente</th>\n",
       "      <th>RC_vs_All</th>\n",
       "      <th>LOG: RC_vs_All</th>\n",
       "    </tr>\n",
       "    <tr>\n",
       "      <th>restecg</th>\n",
       "      <th></th>\n",
       "      <th></th>\n",
       "      <th></th>\n",
       "      <th></th>\n",
       "      <th></th>\n",
       "      <th></th>\n",
       "      <th></th>\n",
       "    </tr>\n",
       "  </thead>\n",
       "  <tbody>\n",
       "    <tr>\n",
       "      <th>anormal</th>\n",
       "      <td>3</td>\n",
       "      <td>1</td>\n",
       "      <td>4</td>\n",
       "      <td>0.750000</td>\n",
       "      <td>3.000000</td>\n",
       "      <td>3.539568</td>\n",
       "      <td>1.264005</td>\n",
       "    </tr>\n",
       "    <tr>\n",
       "      <th>hipertrofia prov</th>\n",
       "      <td>80</td>\n",
       "      <td>68</td>\n",
       "      <td>148</td>\n",
       "      <td>0.540541</td>\n",
       "      <td>1.176471</td>\n",
       "      <td>1.388066</td>\n",
       "      <td>0.327911</td>\n",
       "    </tr>\n",
       "    <tr>\n",
       "      <th>normal</th>\n",
       "      <td>56</td>\n",
       "      <td>95</td>\n",
       "      <td>151</td>\n",
       "      <td>0.370861</td>\n",
       "      <td>0.589474</td>\n",
       "      <td>0.695494</td>\n",
       "      <td>-0.363133</td>\n",
       "    </tr>\n",
       "    <tr>\n",
       "      <th>All</th>\n",
       "      <td>139</td>\n",
       "      <td>164</td>\n",
       "      <td>303</td>\n",
       "      <td>0.458746</td>\n",
       "      <td>0.847561</td>\n",
       "      <td>1.000000</td>\n",
       "      <td>0.000000</td>\n",
       "    </tr>\n",
       "  </tbody>\n",
       "</table>\n",
       "</div>"
      ],
      "text/plain": [
       "flag_doente       doente  saudável  All  percentual_doentes  \\\n",
       "restecg                                                       \n",
       "anormal                3         1    4            0.750000   \n",
       "hipertrofia prov      80        68  148            0.540541   \n",
       "normal                56        95  151            0.370861   \n",
       "All                  139       164  303            0.458746   \n",
       "\n",
       "flag_doente       chance_ser_doente  RC_vs_All  LOG: RC_vs_All  \n",
       "restecg                                                         \n",
       "anormal                    3.000000   3.539568        1.264005  \n",
       "hipertrofia prov           1.176471   1.388066        0.327911  \n",
       "normal                     0.589474   0.695494       -0.363133  \n",
       "All                        0.847561   1.000000        0.000000  "
      ]
     },
     "execution_count": 46,
     "metadata": {},
     "output_type": "execute_result"
    }
   ],
   "source": [
    "resultado3 = tabela_cruzada(df_copy, 'restecg', 'flag_doente')\n",
    "resultado3"
   ]
  },
  {
   "cell_type": "markdown",
   "metadata": {},
   "source": [
    "Bom, como é de se esperar, pessoas com o eletrocardiograma anormal tem uma chance alta de ser doente cardiovascular. Enquanto que pessoas com o eletro normal, tem chance mais baixa. Já para as pessoas que tem ou tem provavel hipertrofia, 54% tem realmente alguma doença cardíaca. Então essa variável é discriminatória levando em conta apenas as classes normal e anormal."
   ]
  },
  {
   "cell_type": "markdown",
   "metadata": {},
   "source": [
    "A próxima variável que iremos analisar é referente ao percentual de açucar no sangue em jejum, temos duas métricas, 1 para maior que 120 e 0 para menor. "
   ]
  },
  {
   "cell_type": "code",
   "execution_count": 47,
   "metadata": {},
   "outputs": [],
   "source": [
    "df_copy['fbs'] = df_copy['fbs'].replace({ 0: 'açucar<120', 1.0: 'açucar>120'})"
   ]
  },
  {
   "cell_type": "code",
   "execution_count": 48,
   "metadata": {},
   "outputs": [
    {
     "data": {
      "text/html": [
       "<div>\n",
       "<style scoped>\n",
       "    .dataframe tbody tr th:only-of-type {\n",
       "        vertical-align: middle;\n",
       "    }\n",
       "\n",
       "    .dataframe tbody tr th {\n",
       "        vertical-align: top;\n",
       "    }\n",
       "\n",
       "    .dataframe thead th {\n",
       "        text-align: right;\n",
       "    }\n",
       "</style>\n",
       "<table border=\"1\" class=\"dataframe\">\n",
       "  <thead>\n",
       "    <tr style=\"text-align: right;\">\n",
       "      <th>flag_doente</th>\n",
       "      <th>doente</th>\n",
       "      <th>saudável</th>\n",
       "      <th>All</th>\n",
       "      <th>percentual_doentes</th>\n",
       "      <th>chance_ser_doente</th>\n",
       "      <th>RC_vs_All</th>\n",
       "      <th>LOG: RC_vs_All</th>\n",
       "    </tr>\n",
       "    <tr>\n",
       "      <th>fbs</th>\n",
       "      <th></th>\n",
       "      <th></th>\n",
       "      <th></th>\n",
       "      <th></th>\n",
       "      <th></th>\n",
       "      <th></th>\n",
       "      <th></th>\n",
       "    </tr>\n",
       "  </thead>\n",
       "  <tbody>\n",
       "    <tr>\n",
       "      <th>açucar&lt;120</th>\n",
       "      <td>117</td>\n",
       "      <td>141</td>\n",
       "      <td>258</td>\n",
       "      <td>0.453488</td>\n",
       "      <td>0.829787</td>\n",
       "      <td>0.979030</td>\n",
       "      <td>-0.021193</td>\n",
       "    </tr>\n",
       "    <tr>\n",
       "      <th>açucar&gt;120</th>\n",
       "      <td>22</td>\n",
       "      <td>23</td>\n",
       "      <td>45</td>\n",
       "      <td>0.488889</td>\n",
       "      <td>0.956522</td>\n",
       "      <td>1.128558</td>\n",
       "      <td>0.120941</td>\n",
       "    </tr>\n",
       "    <tr>\n",
       "      <th>All</th>\n",
       "      <td>139</td>\n",
       "      <td>164</td>\n",
       "      <td>303</td>\n",
       "      <td>0.458746</td>\n",
       "      <td>0.847561</td>\n",
       "      <td>1.000000</td>\n",
       "      <td>0.000000</td>\n",
       "    </tr>\n",
       "  </tbody>\n",
       "</table>\n",
       "</div>"
      ],
      "text/plain": [
       "flag_doente  doente  saudável  All  percentual_doentes  chance_ser_doente  \\\n",
       "fbs                                                                         \n",
       "açucar<120      117       141  258            0.453488           0.829787   \n",
       "açucar>120       22        23   45            0.488889           0.956522   \n",
       "All             139       164  303            0.458746           0.847561   \n",
       "\n",
       "flag_doente  RC_vs_All  LOG: RC_vs_All  \n",
       "fbs                                     \n",
       "açucar<120    0.979030       -0.021193  \n",
       "açucar>120    1.128558        0.120941  \n",
       "All           1.000000        0.000000  "
      ]
     },
     "execution_count": 48,
     "metadata": {},
     "output_type": "execute_result"
    }
   ],
   "source": [
    "resultado4 = tabela_cruzada(df_copy, 'fbs', 'flag_doente')\n",
    "resultado4"
   ]
  },
  {
   "cell_type": "markdown",
   "metadata": {},
   "source": [
    "Aqui podemos perceber que a chance de ser doente cardiovascular é maior para aqueles que possuem o açucar no sangue mais elevado, entretanto, não vemos aqui uma diferença gritante e, portanto, nem potencial discriminatório. "
   ]
  },
  {
   "cell_type": "markdown",
   "metadata": {},
   "source": [
    "Analisando os dataframes obtidos acima, as variáveis que tem maior potencial discriminatório são sex e exang. "
   ]
  },
  {
   "cell_type": "markdown",
   "metadata": {},
   "source": [
    "2. Monte uma função semelhante para categorizar variáveis quantitativas contínuas (com muitas categorias) como ```age```.  \n",
    "    Além dos mesmos parâmetros da função anterior, defina mais um parâmetro como número de categorias que você deseja quebrar. Defina um valor '*default*' de 5 grupos para este parâmetro.  "
   ]
  },
  {
   "cell_type": "code",
   "execution_count": 49,
   "metadata": {},
   "outputs": [],
   "source": [
    "def tabela_cruzada_categorias(df, variavel_independente, variavel_dependente, num_grupos=5):\n",
    "\n",
    "    \n",
    "    # Categoriza a variável independente em grupos\n",
    "    df_copy[variavel_independente] = pd.cut(df[variavel_independente], bins=num_grupos)\n",
    "    \n",
    "    # Calcula a tabela cruzada com margens\n",
    "    tab = pd.crosstab(df_copy[variavel_independente], df_copy[variavel_dependente], margins=True)\n",
    "\n",
    "    \n",
    "    # Calcula o percentual de doentes\n",
    "    tab['percentual_doentes'] = tab['doente'] / tab['All']\n",
    "    \n",
    "    # Calcula a chance de ser doente\n",
    "    tab['chance_ser_doente'] = tab['doente'] / tab['saudável']\n",
    "    \n",
    "    # Calcula a razão de chances (RC) em relação a todos os dados\n",
    "    tab['RC_vs_All'] = tab['chance_ser_doente'] / tab.loc['All', 'chance_ser_doente']\n",
    "    \n",
    "    # Calcula o log da razão de chances (RC)\n",
    "    tab['LOG: RC_vs_All'] = np.log(tab['RC_vs_All'])\n",
    "    \n",
    "    return tab"
   ]
  },
  {
   "cell_type": "markdown",
   "metadata": {},
   "source": [
    "Criada a função pedida, vamos testá-la com a variável idade e verificar se os cortes ficam iguais aos do exercício anterior:"
   ]
  },
  {
   "cell_type": "code",
   "execution_count": 50,
   "metadata": {},
   "outputs": [
    {
     "data": {
      "text/html": [
       "<div>\n",
       "<style scoped>\n",
       "    .dataframe tbody tr th:only-of-type {\n",
       "        vertical-align: middle;\n",
       "    }\n",
       "\n",
       "    .dataframe tbody tr th {\n",
       "        vertical-align: top;\n",
       "    }\n",
       "\n",
       "    .dataframe thead th {\n",
       "        text-align: right;\n",
       "    }\n",
       "</style>\n",
       "<table border=\"1\" class=\"dataframe\">\n",
       "  <thead>\n",
       "    <tr style=\"text-align: right;\">\n",
       "      <th>flag_doente</th>\n",
       "      <th>doente</th>\n",
       "      <th>saudável</th>\n",
       "      <th>All</th>\n",
       "      <th>percentual_doentes</th>\n",
       "      <th>chance_ser_doente</th>\n",
       "      <th>RC_vs_All</th>\n",
       "      <th>LOG: RC_vs_All</th>\n",
       "    </tr>\n",
       "    <tr>\n",
       "      <th>age</th>\n",
       "      <th></th>\n",
       "      <th></th>\n",
       "      <th></th>\n",
       "      <th></th>\n",
       "      <th></th>\n",
       "      <th></th>\n",
       "      <th></th>\n",
       "    </tr>\n",
       "  </thead>\n",
       "  <tbody>\n",
       "    <tr>\n",
       "      <th>(28.952, 38.6]</th>\n",
       "      <td>3</td>\n",
       "      <td>8</td>\n",
       "      <td>11</td>\n",
       "      <td>0.272727</td>\n",
       "      <td>0.375000</td>\n",
       "      <td>0.442446</td>\n",
       "      <td>-0.815437</td>\n",
       "    </tr>\n",
       "    <tr>\n",
       "      <th>(38.6, 48.2]</th>\n",
       "      <td>21</td>\n",
       "      <td>50</td>\n",
       "      <td>71</td>\n",
       "      <td>0.295775</td>\n",
       "      <td>0.420000</td>\n",
       "      <td>0.495540</td>\n",
       "      <td>-0.702108</td>\n",
       "    </tr>\n",
       "    <tr>\n",
       "      <th>(48.2, 57.8]</th>\n",
       "      <td>41</td>\n",
       "      <td>56</td>\n",
       "      <td>97</td>\n",
       "      <td>0.422680</td>\n",
       "      <td>0.732143</td>\n",
       "      <td>0.863823</td>\n",
       "      <td>-0.146387</td>\n",
       "    </tr>\n",
       "    <tr>\n",
       "      <th>(57.8, 67.4]</th>\n",
       "      <td>67</td>\n",
       "      <td>40</td>\n",
       "      <td>107</td>\n",
       "      <td>0.626168</td>\n",
       "      <td>1.675000</td>\n",
       "      <td>1.976259</td>\n",
       "      <td>0.681206</td>\n",
       "    </tr>\n",
       "    <tr>\n",
       "      <th>(67.4, 77.0]</th>\n",
       "      <td>7</td>\n",
       "      <td>10</td>\n",
       "      <td>17</td>\n",
       "      <td>0.411765</td>\n",
       "      <td>0.700000</td>\n",
       "      <td>0.825899</td>\n",
       "      <td>-0.191282</td>\n",
       "    </tr>\n",
       "    <tr>\n",
       "      <th>All</th>\n",
       "      <td>139</td>\n",
       "      <td>164</td>\n",
       "      <td>303</td>\n",
       "      <td>0.458746</td>\n",
       "      <td>0.847561</td>\n",
       "      <td>1.000000</td>\n",
       "      <td>0.000000</td>\n",
       "    </tr>\n",
       "  </tbody>\n",
       "</table>\n",
       "</div>"
      ],
      "text/plain": [
       "flag_doente     doente  saudável  All  percentual_doentes  chance_ser_doente  \\\n",
       "age                                                                            \n",
       "(28.952, 38.6]       3         8   11            0.272727           0.375000   \n",
       "(38.6, 48.2]        21        50   71            0.295775           0.420000   \n",
       "(48.2, 57.8]        41        56   97            0.422680           0.732143   \n",
       "(57.8, 67.4]        67        40  107            0.626168           1.675000   \n",
       "(67.4, 77.0]         7        10   17            0.411765           0.700000   \n",
       "All                139       164  303            0.458746           0.847561   \n",
       "\n",
       "flag_doente     RC_vs_All  LOG: RC_vs_All  \n",
       "age                                        \n",
       "(28.952, 38.6]   0.442446       -0.815437  \n",
       "(38.6, 48.2]     0.495540       -0.702108  \n",
       "(48.2, 57.8]     0.863823       -0.146387  \n",
       "(57.8, 67.4]     1.976259        0.681206  \n",
       "(67.4, 77.0]     0.825899       -0.191282  \n",
       "All              1.000000        0.000000  "
      ]
     },
     "execution_count": 50,
     "metadata": {},
     "output_type": "execute_result"
    }
   ],
   "source": [
    "resultado01 = tabela_cruzada_categorias(df_copy, 'age', 'flag_doente')\n",
    "resultado01"
   ]
  },
  {
   "cell_type": "markdown",
   "metadata": {},
   "source": [
    "Obtivemos a mesma tabela do exercício anterior, o que mostra que a adição do pd.cut na nossa função deu certo! Aqui podemos perceber que as chances de ser doente são maiores a partir dos 48.2 anos. Agora vamos analisar a variável independente 'thalach'que se refere à frequencia cardiáca máxima alcançada. "
   ]
  },
  {
   "cell_type": "code",
   "execution_count": 51,
   "metadata": {},
   "outputs": [
    {
     "data": {
      "text/html": [
       "<div>\n",
       "<style scoped>\n",
       "    .dataframe tbody tr th:only-of-type {\n",
       "        vertical-align: middle;\n",
       "    }\n",
       "\n",
       "    .dataframe tbody tr th {\n",
       "        vertical-align: top;\n",
       "    }\n",
       "\n",
       "    .dataframe thead th {\n",
       "        text-align: right;\n",
       "    }\n",
       "</style>\n",
       "<table border=\"1\" class=\"dataframe\">\n",
       "  <thead>\n",
       "    <tr style=\"text-align: right;\">\n",
       "      <th>flag_doente</th>\n",
       "      <th>doente</th>\n",
       "      <th>saudável</th>\n",
       "      <th>All</th>\n",
       "      <th>percentual_doentes</th>\n",
       "      <th>chance_ser_doente</th>\n",
       "      <th>RC_vs_All</th>\n",
       "      <th>LOG: RC_vs_All</th>\n",
       "    </tr>\n",
       "    <tr>\n",
       "      <th>thalach</th>\n",
       "      <th></th>\n",
       "      <th></th>\n",
       "      <th></th>\n",
       "      <th></th>\n",
       "      <th></th>\n",
       "      <th></th>\n",
       "      <th></th>\n",
       "    </tr>\n",
       "  </thead>\n",
       "  <tbody>\n",
       "    <tr>\n",
       "      <th>(70.869, 103.75]</th>\n",
       "      <td>9</td>\n",
       "      <td>1</td>\n",
       "      <td>10</td>\n",
       "      <td>0.900000</td>\n",
       "      <td>9.000000</td>\n",
       "      <td>10.618705</td>\n",
       "      <td>2.362617</td>\n",
       "    </tr>\n",
       "    <tr>\n",
       "      <th>(103.75, 136.5]</th>\n",
       "      <td>50</td>\n",
       "      <td>19</td>\n",
       "      <td>69</td>\n",
       "      <td>0.724638</td>\n",
       "      <td>2.631579</td>\n",
       "      <td>3.104885</td>\n",
       "      <td>1.132977</td>\n",
       "    </tr>\n",
       "    <tr>\n",
       "      <th>(136.5, 169.25]</th>\n",
       "      <td>70</td>\n",
       "      <td>92</td>\n",
       "      <td>162</td>\n",
       "      <td>0.432099</td>\n",
       "      <td>0.760870</td>\n",
       "      <td>0.897717</td>\n",
       "      <td>-0.107901</td>\n",
       "    </tr>\n",
       "    <tr>\n",
       "      <th>(169.25, 202.0]</th>\n",
       "      <td>10</td>\n",
       "      <td>52</td>\n",
       "      <td>62</td>\n",
       "      <td>0.161290</td>\n",
       "      <td>0.192308</td>\n",
       "      <td>0.226895</td>\n",
       "      <td>-1.483266</td>\n",
       "    </tr>\n",
       "    <tr>\n",
       "      <th>All</th>\n",
       "      <td>139</td>\n",
       "      <td>164</td>\n",
       "      <td>303</td>\n",
       "      <td>0.458746</td>\n",
       "      <td>0.847561</td>\n",
       "      <td>1.000000</td>\n",
       "      <td>0.000000</td>\n",
       "    </tr>\n",
       "  </tbody>\n",
       "</table>\n",
       "</div>"
      ],
      "text/plain": [
       "flag_doente       doente  saudável  All  percentual_doentes  \\\n",
       "thalach                                                       \n",
       "(70.869, 103.75]       9         1   10            0.900000   \n",
       "(103.75, 136.5]       50        19   69            0.724638   \n",
       "(136.5, 169.25]       70        92  162            0.432099   \n",
       "(169.25, 202.0]       10        52   62            0.161290   \n",
       "All                  139       164  303            0.458746   \n",
       "\n",
       "flag_doente       chance_ser_doente  RC_vs_All  LOG: RC_vs_All  \n",
       "thalach                                                         \n",
       "(70.869, 103.75]           9.000000  10.618705        2.362617  \n",
       "(103.75, 136.5]            2.631579   3.104885        1.132977  \n",
       "(136.5, 169.25]            0.760870   0.897717       -0.107901  \n",
       "(169.25, 202.0]            0.192308   0.226895       -1.483266  \n",
       "All                        0.847561   1.000000        0.000000  "
      ]
     },
     "execution_count": 51,
     "metadata": {},
     "output_type": "execute_result"
    }
   ],
   "source": [
    "resultado02 = tabela_cruzada_categorias(df_copy, 'thalach', 'flag_doente', num_grupos=4)\n",
    "resultado02"
   ]
  },
  {
   "cell_type": "markdown",
   "metadata": {},
   "source": [
    "Aqui podemos perceber que quanto menores as frequências máximas, maiores são as chances de ser doente, sendo uma variável com um potencial bastante discriminatório, visto que aqueles que se encaixam em frequencia máxima entre 70 e 103 tem chances altíssimas de serem doentes e um percentual de 90% desses são doentes. "
   ]
  },
  {
   "cell_type": "markdown",
   "metadata": {},
   "source": [
    "Agora vamos analisar mais uma variável contínua, 'trestbps' que se refere à pressão sanguínea em repouso. "
   ]
  },
  {
   "cell_type": "code",
   "execution_count": 52,
   "metadata": {},
   "outputs": [
    {
     "data": {
      "text/html": [
       "<div>\n",
       "<style scoped>\n",
       "    .dataframe tbody tr th:only-of-type {\n",
       "        vertical-align: middle;\n",
       "    }\n",
       "\n",
       "    .dataframe tbody tr th {\n",
       "        vertical-align: top;\n",
       "    }\n",
       "\n",
       "    .dataframe thead th {\n",
       "        text-align: right;\n",
       "    }\n",
       "</style>\n",
       "<table border=\"1\" class=\"dataframe\">\n",
       "  <thead>\n",
       "    <tr style=\"text-align: right;\">\n",
       "      <th>flag_doente</th>\n",
       "      <th>doente</th>\n",
       "      <th>saudável</th>\n",
       "      <th>All</th>\n",
       "      <th>percentual_doentes</th>\n",
       "      <th>chance_ser_doente</th>\n",
       "      <th>RC_vs_All</th>\n",
       "      <th>LOG: RC_vs_All</th>\n",
       "    </tr>\n",
       "    <tr>\n",
       "      <th>trestbps</th>\n",
       "      <th></th>\n",
       "      <th></th>\n",
       "      <th></th>\n",
       "      <th></th>\n",
       "      <th></th>\n",
       "      <th></th>\n",
       "      <th></th>\n",
       "    </tr>\n",
       "  </thead>\n",
       "  <tbody>\n",
       "    <tr>\n",
       "      <th>(93.894, 120.5]</th>\n",
       "      <td>37</td>\n",
       "      <td>60</td>\n",
       "      <td>97</td>\n",
       "      <td>0.381443</td>\n",
       "      <td>0.616667</td>\n",
       "      <td>0.727578</td>\n",
       "      <td>-0.318034</td>\n",
       "    </tr>\n",
       "    <tr>\n",
       "      <th>(120.5, 147.0]</th>\n",
       "      <td>71</td>\n",
       "      <td>81</td>\n",
       "      <td>152</td>\n",
       "      <td>0.467105</td>\n",
       "      <td>0.876543</td>\n",
       "      <td>1.034195</td>\n",
       "      <td>0.033623</td>\n",
       "    </tr>\n",
       "    <tr>\n",
       "      <th>(147.0, 173.5]</th>\n",
       "      <td>25</td>\n",
       "      <td>21</td>\n",
       "      <td>46</td>\n",
       "      <td>0.543478</td>\n",
       "      <td>1.190476</td>\n",
       "      <td>1.404591</td>\n",
       "      <td>0.339746</td>\n",
       "    </tr>\n",
       "    <tr>\n",
       "      <th>(173.5, 200.0]</th>\n",
       "      <td>6</td>\n",
       "      <td>2</td>\n",
       "      <td>8</td>\n",
       "      <td>0.750000</td>\n",
       "      <td>3.000000</td>\n",
       "      <td>3.539568</td>\n",
       "      <td>1.264005</td>\n",
       "    </tr>\n",
       "    <tr>\n",
       "      <th>All</th>\n",
       "      <td>139</td>\n",
       "      <td>164</td>\n",
       "      <td>303</td>\n",
       "      <td>0.458746</td>\n",
       "      <td>0.847561</td>\n",
       "      <td>1.000000</td>\n",
       "      <td>0.000000</td>\n",
       "    </tr>\n",
       "  </tbody>\n",
       "</table>\n",
       "</div>"
      ],
      "text/plain": [
       "flag_doente      doente  saudável  All  percentual_doentes  chance_ser_doente  \\\n",
       "trestbps                                                                        \n",
       "(93.894, 120.5]      37        60   97            0.381443           0.616667   \n",
       "(120.5, 147.0]       71        81  152            0.467105           0.876543   \n",
       "(147.0, 173.5]       25        21   46            0.543478           1.190476   \n",
       "(173.5, 200.0]        6         2    8            0.750000           3.000000   \n",
       "All                 139       164  303            0.458746           0.847561   \n",
       "\n",
       "flag_doente      RC_vs_All  LOG: RC_vs_All  \n",
       "trestbps                                    \n",
       "(93.894, 120.5]   0.727578       -0.318034  \n",
       "(120.5, 147.0]    1.034195        0.033623  \n",
       "(147.0, 173.5]    1.404591        0.339746  \n",
       "(173.5, 200.0]    3.539568        1.264005  \n",
       "All               1.000000        0.000000  "
      ]
     },
     "execution_count": 52,
     "metadata": {},
     "output_type": "execute_result"
    }
   ],
   "source": [
    "resultado03 = tabela_cruzada_categorias(df_copy, 'trestbps', 'flag_doente', num_grupos=4)\n",
    "resultado03"
   ]
  },
  {
   "cell_type": "markdown",
   "metadata": {},
   "source": [
    "Essa variável também parece ser discriminatória, visto que quanto maior a pressão sanguínia, maior a chance de ser doente. Agora vamos analisar a variável 'chol: colesterol sérico em mg/dl':"
   ]
  },
  {
   "cell_type": "code",
   "execution_count": 53,
   "metadata": {},
   "outputs": [
    {
     "name": "stderr",
     "output_type": "stream",
     "text": [
      "C:\\Users\\chaik\\AppData\\Local\\anaconda3\\Lib\\site-packages\\pandas\\core\\arraylike.py:402: RuntimeWarning: divide by zero encountered in log\n",
      "  result = getattr(ufunc, method)(*inputs, **kwargs)\n"
     ]
    },
    {
     "data": {
      "text/html": [
       "<div>\n",
       "<style scoped>\n",
       "    .dataframe tbody tr th:only-of-type {\n",
       "        vertical-align: middle;\n",
       "    }\n",
       "\n",
       "    .dataframe tbody tr th {\n",
       "        vertical-align: top;\n",
       "    }\n",
       "\n",
       "    .dataframe thead th {\n",
       "        text-align: right;\n",
       "    }\n",
       "</style>\n",
       "<table border=\"1\" class=\"dataframe\">\n",
       "  <thead>\n",
       "    <tr style=\"text-align: right;\">\n",
       "      <th>flag_doente</th>\n",
       "      <th>doente</th>\n",
       "      <th>saudável</th>\n",
       "      <th>All</th>\n",
       "      <th>percentual_doentes</th>\n",
       "      <th>chance_ser_doente</th>\n",
       "      <th>RC_vs_All</th>\n",
       "      <th>LOG: RC_vs_All</th>\n",
       "    </tr>\n",
       "    <tr>\n",
       "      <th>chol</th>\n",
       "      <th></th>\n",
       "      <th></th>\n",
       "      <th></th>\n",
       "      <th></th>\n",
       "      <th></th>\n",
       "      <th></th>\n",
       "      <th></th>\n",
       "    </tr>\n",
       "  </thead>\n",
       "  <tbody>\n",
       "    <tr>\n",
       "      <th>(125.562, 235.5]</th>\n",
       "      <td>55</td>\n",
       "      <td>84</td>\n",
       "      <td>139</td>\n",
       "      <td>0.395683</td>\n",
       "      <td>0.654762</td>\n",
       "      <td>0.772525</td>\n",
       "      <td>-0.258091</td>\n",
       "    </tr>\n",
       "    <tr>\n",
       "      <th>(235.5, 345.0]</th>\n",
       "      <td>81</td>\n",
       "      <td>75</td>\n",
       "      <td>156</td>\n",
       "      <td>0.519231</td>\n",
       "      <td>1.080000</td>\n",
       "      <td>1.274245</td>\n",
       "      <td>0.242354</td>\n",
       "    </tr>\n",
       "    <tr>\n",
       "      <th>(345.0, 454.5]</th>\n",
       "      <td>3</td>\n",
       "      <td>4</td>\n",
       "      <td>7</td>\n",
       "      <td>0.428571</td>\n",
       "      <td>0.750000</td>\n",
       "      <td>0.884892</td>\n",
       "      <td>-0.122290</td>\n",
       "    </tr>\n",
       "    <tr>\n",
       "      <th>(454.5, 564.0]</th>\n",
       "      <td>0</td>\n",
       "      <td>1</td>\n",
       "      <td>1</td>\n",
       "      <td>0.000000</td>\n",
       "      <td>0.000000</td>\n",
       "      <td>0.000000</td>\n",
       "      <td>-inf</td>\n",
       "    </tr>\n",
       "    <tr>\n",
       "      <th>All</th>\n",
       "      <td>139</td>\n",
       "      <td>164</td>\n",
       "      <td>303</td>\n",
       "      <td>0.458746</td>\n",
       "      <td>0.847561</td>\n",
       "      <td>1.000000</td>\n",
       "      <td>0.000000</td>\n",
       "    </tr>\n",
       "  </tbody>\n",
       "</table>\n",
       "</div>"
      ],
      "text/plain": [
       "flag_doente       doente  saudável  All  percentual_doentes  \\\n",
       "chol                                                          \n",
       "(125.562, 235.5]      55        84  139            0.395683   \n",
       "(235.5, 345.0]        81        75  156            0.519231   \n",
       "(345.0, 454.5]         3         4    7            0.428571   \n",
       "(454.5, 564.0]         0         1    1            0.000000   \n",
       "All                  139       164  303            0.458746   \n",
       "\n",
       "flag_doente       chance_ser_doente  RC_vs_All  LOG: RC_vs_All  \n",
       "chol                                                            \n",
       "(125.562, 235.5]           0.654762   0.772525       -0.258091  \n",
       "(235.5, 345.0]             1.080000   1.274245        0.242354  \n",
       "(345.0, 454.5]             0.750000   0.884892       -0.122290  \n",
       "(454.5, 564.0]             0.000000   0.000000            -inf  \n",
       "All                        0.847561   1.000000        0.000000  "
      ]
     },
     "execution_count": 53,
     "metadata": {},
     "output_type": "execute_result"
    }
   ],
   "source": [
    "resultado04 = tabela_cruzada_categorias(df_copy, 'chol', 'flag_doente', num_grupos=4)\n",
    "resultado04"
   ]
  },
  {
   "cell_type": "markdown",
   "metadata": {},
   "source": [
    "Aqui não percebo um forte potencial discriminatório. Portanto, as preferidas aqui para criação de um modelo de regressão são 'age', 'thalach' e 'trestbps'. "
   ]
  },
  {
   "cell_type": "markdown",
   "metadata": {},
   "source": [
    "Para facilitar a construção dos modelos de regressão, farei alguns ajustes no data frame original:"
   ]
  },
  {
   "cell_type": "code",
   "execution_count": 54,
   "metadata": {},
   "outputs": [],
   "source": [
    "df['sex'] = df['sex'].replace({1: 'masc', 0: 'fem'})"
   ]
  },
  {
   "cell_type": "markdown",
   "metadata": {},
   "source": [
    "3. Construa um modelo de regressão logística com as variáveis qualitativas: ```sex + cp +  trestbps``` e com a variável quantitativa ```age```.\n",
    "\n",
    "**Interprete os parâmetros.**"
   ]
  },
  {
   "cell_type": "markdown",
   "metadata": {},
   "source": [
    "Primeiro modelo contendo as variáveis independentes sex + cp + trestbps:"
   ]
  },
  {
   "cell_type": "code",
   "execution_count": 55,
   "metadata": {},
   "outputs": [
    {
     "name": "stdout",
     "output_type": "stream",
     "text": [
      "Optimization terminated successfully.\n",
      "         Current function value: 0.493233\n",
      "         Iterations 6\n"
     ]
    },
    {
     "data": {
      "text/html": [
       "<table class=\"simpletable\">\n",
       "<caption>Logit Regression Results</caption>\n",
       "<tr>\n",
       "  <th>Dep. Variable:</th>      <td>flag_doente</td>   <th>  No. Observations:  </th>  <td>   303</td>  \n",
       "</tr>\n",
       "<tr>\n",
       "  <th>Model:</th>                 <td>Logit</td>      <th>  Df Residuals:      </th>  <td>   297</td>  \n",
       "</tr>\n",
       "<tr>\n",
       "  <th>Method:</th>                 <td>MLE</td>       <th>  Df Model:          </th>  <td>     5</td>  \n",
       "</tr>\n",
       "<tr>\n",
       "  <th>Date:</th>            <td>Wed, 29 May 2024</td> <th>  Pseudo R-squ.:     </th>  <td>0.2849</td>  \n",
       "</tr>\n",
       "<tr>\n",
       "  <th>Time:</th>                <td>17:12:32</td>     <th>  Log-Likelihood:    </th> <td> -149.45</td> \n",
       "</tr>\n",
       "<tr>\n",
       "  <th>converged:</th>             <td>True</td>       <th>  LL-Null:           </th> <td> -208.99</td> \n",
       "</tr>\n",
       "<tr>\n",
       "  <th>Covariance Type:</th>     <td>nonrobust</td>    <th>  LLR p-value:       </th> <td>4.908e-24</td>\n",
       "</tr>\n",
       "</table>\n",
       "<table class=\"simpletable\">\n",
       "<tr>\n",
       "         <td></td>           <th>coef</th>     <th>std err</th>      <th>z</th>      <th>P>|z|</th>  <th>[0.025</th>    <th>0.975]</th>  \n",
       "</tr>\n",
       "<tr>\n",
       "  <th>Intercept</th>      <td>   -5.9260</td> <td>    1.371</td> <td>   -4.323</td> <td> 0.000</td> <td>   -8.613</td> <td>   -3.240</td>\n",
       "</tr>\n",
       "<tr>\n",
       "  <th>C(sex)[T.masc]</th> <td>    1.6297</td> <td>    0.340</td> <td>    4.794</td> <td> 0.000</td> <td>    0.963</td> <td>    2.296</td>\n",
       "</tr>\n",
       "<tr>\n",
       "  <th>C(cp)[T.2.0]</th>   <td>   -0.1907</td> <td>    0.621</td> <td>   -0.307</td> <td> 0.759</td> <td>   -1.409</td> <td>    1.027</td>\n",
       "</tr>\n",
       "<tr>\n",
       "  <th>C(cp)[T.3.0]</th>   <td>    0.0065</td> <td>    0.559</td> <td>    0.012</td> <td> 0.991</td> <td>   -1.089</td> <td>    1.102</td>\n",
       "</tr>\n",
       "<tr>\n",
       "  <th>C(cp)[T.4.0]</th>   <td>    2.4260</td> <td>    0.539</td> <td>    4.501</td> <td> 0.000</td> <td>    1.370</td> <td>    3.482</td>\n",
       "</tr>\n",
       "<tr>\n",
       "  <th>trestbps</th>       <td>    0.0259</td> <td>    0.008</td> <td>    3.114</td> <td> 0.002</td> <td>    0.010</td> <td>    0.042</td>\n",
       "</tr>\n",
       "</table>"
      ],
      "text/plain": [
       "<class 'statsmodels.iolib.summary.Summary'>\n",
       "\"\"\"\n",
       "                           Logit Regression Results                           \n",
       "==============================================================================\n",
       "Dep. Variable:            flag_doente   No. Observations:                  303\n",
       "Model:                          Logit   Df Residuals:                      297\n",
       "Method:                           MLE   Df Model:                            5\n",
       "Date:                Wed, 29 May 2024   Pseudo R-squ.:                  0.2849\n",
       "Time:                        17:12:32   Log-Likelihood:                -149.45\n",
       "converged:                       True   LL-Null:                       -208.99\n",
       "Covariance Type:            nonrobust   LLR p-value:                 4.908e-24\n",
       "==================================================================================\n",
       "                     coef    std err          z      P>|z|      [0.025      0.975]\n",
       "----------------------------------------------------------------------------------\n",
       "Intercept         -5.9260      1.371     -4.323      0.000      -8.613      -3.240\n",
       "C(sex)[T.masc]     1.6297      0.340      4.794      0.000       0.963       2.296\n",
       "C(cp)[T.2.0]      -0.1907      0.621     -0.307      0.759      -1.409       1.027\n",
       "C(cp)[T.3.0]       0.0065      0.559      0.012      0.991      -1.089       1.102\n",
       "C(cp)[T.4.0]       2.4260      0.539      4.501      0.000       1.370       3.482\n",
       "trestbps           0.0259      0.008      3.114      0.002       0.010       0.042\n",
       "==================================================================================\n",
       "\"\"\""
      ]
     },
     "execution_count": 55,
     "metadata": {},
     "output_type": "execute_result"
    }
   ],
   "source": [
    "reglog1 = smf.logit(\"flag_doente ~ C(sex) + C(cp) + trestbps\",data=df).fit() \n",
    "reglog1.summary()"
   ]
  },
  {
   "cell_type": "markdown",
   "metadata": {},
   "source": [
    "De acordo com o p_value da nossa regressão, temos como variáveis significativas apenas uma das caselas do cp e ademais, temos a variável sex e trestbps (pressão sanguínea) como muito significativas. Acredito portanto, que podemos retirar a variável cp da nossa análise, claro, quando verificada no mesmo cenário que sex e trestps. Vamos tentar criar a regressão apenas com ela para ver o que acontece:"
   ]
  },
  {
   "cell_type": "code",
   "execution_count": 56,
   "metadata": {},
   "outputs": [
    {
     "name": "stdout",
     "output_type": "stream",
     "text": [
      "Optimization terminated successfully.\n",
      "         Current function value: 0.547631\n",
      "         Iterations 5\n"
     ]
    },
    {
     "data": {
      "text/html": [
       "<table class=\"simpletable\">\n",
       "<caption>Logit Regression Results</caption>\n",
       "<tr>\n",
       "  <th>Dep. Variable:</th>      <td>flag_doente</td>   <th>  No. Observations:  </th>  <td>   303</td>  \n",
       "</tr>\n",
       "<tr>\n",
       "  <th>Model:</th>                 <td>Logit</td>      <th>  Df Residuals:      </th>  <td>   297</td>  \n",
       "</tr>\n",
       "<tr>\n",
       "  <th>Method:</th>                 <td>MLE</td>       <th>  Df Model:          </th>  <td>     5</td>  \n",
       "</tr>\n",
       "<tr>\n",
       "  <th>Date:</th>            <td>Wed, 29 May 2024</td> <th>  Pseudo R-squ.:     </th>  <td>0.2849</td>  \n",
       "</tr>\n",
       "<tr>\n",
       "  <th>Time:</th>                <td>17:12:33</td>     <th>  Log-Likelihood:    </th> <td> -149.45</td> \n",
       "</tr>\n",
       "<tr>\n",
       "  <th>converged:</th>             <td>True</td>       <th>  LL-Null:           </th> <td> -208.99</td> \n",
       "</tr>\n",
       "<tr>\n",
       "  <th>Covariance Type:</th>     <td>nonrobust</td>    <th>  LLR p-value:       </th> <td>4.908e-24</td>\n",
       "</tr>\n",
       "</table>\n",
       "<table class=\"simpletable\">\n",
       "<tr>\n",
       "         <td></td>           <th>coef</th>     <th>std err</th>      <th>z</th>      <th>P>|z|</th>  <th>[0.025</th>    <th>0.975]</th>  \n",
       "</tr>\n",
       "<tr>\n",
       "  <th>Intercept</th>      <td>   -5.9260</td> <td>    1.371</td> <td>   -4.323</td> <td> 0.000</td> <td>   -8.613</td> <td>   -3.240</td>\n",
       "</tr>\n",
       "<tr>\n",
       "  <th>C(sex)[T.masc]</th> <td>    1.6297</td> <td>    0.340</td> <td>    4.794</td> <td> 0.000</td> <td>    0.963</td> <td>    2.296</td>\n",
       "</tr>\n",
       "<tr>\n",
       "  <th>C(cp)[T.2.0]</th>   <td>   -0.1907</td> <td>    0.621</td> <td>   -0.307</td> <td> 0.759</td> <td>   -1.409</td> <td>    1.027</td>\n",
       "</tr>\n",
       "<tr>\n",
       "  <th>C(cp)[T.3.0]</th>   <td>    0.0065</td> <td>    0.559</td> <td>    0.012</td> <td> 0.991</td> <td>   -1.089</td> <td>    1.102</td>\n",
       "</tr>\n",
       "<tr>\n",
       "  <th>C(cp)[T.4.0]</th>   <td>    2.4260</td> <td>    0.539</td> <td>    4.501</td> <td> 0.000</td> <td>    1.370</td> <td>    3.482</td>\n",
       "</tr>\n",
       "<tr>\n",
       "  <th>trestbps</th>       <td>    0.0259</td> <td>    0.008</td> <td>    3.114</td> <td> 0.002</td> <td>    0.010</td> <td>    0.042</td>\n",
       "</tr>\n",
       "</table>"
      ],
      "text/plain": [
       "<class 'statsmodels.iolib.summary.Summary'>\n",
       "\"\"\"\n",
       "                           Logit Regression Results                           \n",
       "==============================================================================\n",
       "Dep. Variable:            flag_doente   No. Observations:                  303\n",
       "Model:                          Logit   Df Residuals:                      297\n",
       "Method:                           MLE   Df Model:                            5\n",
       "Date:                Wed, 29 May 2024   Pseudo R-squ.:                  0.2849\n",
       "Time:                        17:12:33   Log-Likelihood:                -149.45\n",
       "converged:                       True   LL-Null:                       -208.99\n",
       "Covariance Type:            nonrobust   LLR p-value:                 4.908e-24\n",
       "==================================================================================\n",
       "                     coef    std err          z      P>|z|      [0.025      0.975]\n",
       "----------------------------------------------------------------------------------\n",
       "Intercept         -5.9260      1.371     -4.323      0.000      -8.613      -3.240\n",
       "C(sex)[T.masc]     1.6297      0.340      4.794      0.000       0.963       2.296\n",
       "C(cp)[T.2.0]      -0.1907      0.621     -0.307      0.759      -1.409       1.027\n",
       "C(cp)[T.3.0]       0.0065      0.559      0.012      0.991      -1.089       1.102\n",
       "C(cp)[T.4.0]       2.4260      0.539      4.501      0.000       1.370       3.482\n",
       "trestbps           0.0259      0.008      3.114      0.002       0.010       0.042\n",
       "==================================================================================\n",
       "\"\"\""
      ]
     },
     "execution_count": 56,
     "metadata": {},
     "output_type": "execute_result"
    }
   ],
   "source": [
    "reglog1_1 = smf.logit(\"flag_doente ~ C(cp)\",data=df).fit() \n",
    "reglog1.summary()"
   ]
  },
  {
   "cell_type": "markdown",
   "metadata": {},
   "source": [
    "Temos casela 1 e 4 como bastante signficativas, portanto, temos sim aqui um potencial discriminatório, vamos mantê-la na regressão anterior. Agora, vamos para o próximo modelo de regressão, nele avaliamos a variável age:"
   ]
  },
  {
   "cell_type": "code",
   "execution_count": 57,
   "metadata": {},
   "outputs": [
    {
     "name": "stdout",
     "output_type": "stream",
     "text": [
      "Optimization terminated successfully.\n",
      "         Current function value: 0.664250\n",
      "         Iterations 5\n"
     ]
    },
    {
     "data": {
      "text/html": [
       "<table class=\"simpletable\">\n",
       "<caption>Logit Regression Results</caption>\n",
       "<tr>\n",
       "  <th>Dep. Variable:</th>      <td>flag_doente</td>   <th>  No. Observations:  </th>  <td>   303</td>  \n",
       "</tr>\n",
       "<tr>\n",
       "  <th>Model:</th>                 <td>Logit</td>      <th>  Df Residuals:      </th>  <td>   301</td>  \n",
       "</tr>\n",
       "<tr>\n",
       "  <th>Method:</th>                 <td>MLE</td>       <th>  Df Model:          </th>  <td>     1</td>  \n",
       "</tr>\n",
       "<tr>\n",
       "  <th>Date:</th>            <td>Wed, 29 May 2024</td> <th>  Pseudo R-squ.:     </th>  <td>0.03696</td> \n",
       "</tr>\n",
       "<tr>\n",
       "  <th>Time:</th>                <td>17:12:33</td>     <th>  Log-Likelihood:    </th> <td> -201.27</td> \n",
       "</tr>\n",
       "<tr>\n",
       "  <th>converged:</th>             <td>True</td>       <th>  LL-Null:           </th> <td> -208.99</td> \n",
       "</tr>\n",
       "<tr>\n",
       "  <th>Covariance Type:</th>     <td>nonrobust</td>    <th>  LLR p-value:       </th> <td>8.487e-05</td>\n",
       "</tr>\n",
       "</table>\n",
       "<table class=\"simpletable\">\n",
       "<tr>\n",
       "      <td></td>         <th>coef</th>     <th>std err</th>      <th>z</th>      <th>P>|z|</th>  <th>[0.025</th>    <th>0.975]</th>  \n",
       "</tr>\n",
       "<tr>\n",
       "  <th>Intercept</th> <td>   -3.0059</td> <td>    0.759</td> <td>   -3.960</td> <td> 0.000</td> <td>   -4.494</td> <td>   -1.518</td>\n",
       "</tr>\n",
       "<tr>\n",
       "  <th>age</th>       <td>    0.0520</td> <td>    0.014</td> <td>    3.803</td> <td> 0.000</td> <td>    0.025</td> <td>    0.079</td>\n",
       "</tr>\n",
       "</table>"
      ],
      "text/plain": [
       "<class 'statsmodels.iolib.summary.Summary'>\n",
       "\"\"\"\n",
       "                           Logit Regression Results                           \n",
       "==============================================================================\n",
       "Dep. Variable:            flag_doente   No. Observations:                  303\n",
       "Model:                          Logit   Df Residuals:                      301\n",
       "Method:                           MLE   Df Model:                            1\n",
       "Date:                Wed, 29 May 2024   Pseudo R-squ.:                 0.03696\n",
       "Time:                        17:12:33   Log-Likelihood:                -201.27\n",
       "converged:                       True   LL-Null:                       -208.99\n",
       "Covariance Type:            nonrobust   LLR p-value:                 8.487e-05\n",
       "==============================================================================\n",
       "                 coef    std err          z      P>|z|      [0.025      0.975]\n",
       "------------------------------------------------------------------------------\n",
       "Intercept     -3.0059      0.759     -3.960      0.000      -4.494      -1.518\n",
       "age            0.0520      0.014      3.803      0.000       0.025       0.079\n",
       "==============================================================================\n",
       "\"\"\""
      ]
     },
     "execution_count": 57,
     "metadata": {},
     "output_type": "execute_result"
    }
   ],
   "source": [
    "reglog2 = smf.logit(\"flag_doente ~ age\",data=df).fit() \n",
    "reglog2.summary()"
   ]
  },
  {
   "cell_type": "markdown",
   "metadata": {},
   "source": [
    "Temos aqui mais uma variável muito importante. Agora vamos juntar todas em apenas um modelo para depois avaliá-lo:"
   ]
  },
  {
   "cell_type": "code",
   "execution_count": 58,
   "metadata": {},
   "outputs": [
    {
     "name": "stdout",
     "output_type": "stream",
     "text": [
      "Optimization terminated successfully.\n",
      "         Current function value: 0.476154\n",
      "         Iterations 6\n"
     ]
    },
    {
     "data": {
      "text/html": [
       "<table class=\"simpletable\">\n",
       "<caption>Logit Regression Results</caption>\n",
       "<tr>\n",
       "  <th>Dep. Variable:</th>      <td>flag_doente</td>   <th>  No. Observations:  </th>  <td>   303</td>  \n",
       "</tr>\n",
       "<tr>\n",
       "  <th>Model:</th>                 <td>Logit</td>      <th>  Df Residuals:      </th>  <td>   296</td>  \n",
       "</tr>\n",
       "<tr>\n",
       "  <th>Method:</th>                 <td>MLE</td>       <th>  Df Model:          </th>  <td>     6</td>  \n",
       "</tr>\n",
       "<tr>\n",
       "  <th>Date:</th>            <td>Wed, 29 May 2024</td> <th>  Pseudo R-squ.:     </th>  <td>0.3097</td>  \n",
       "</tr>\n",
       "<tr>\n",
       "  <th>Time:</th>                <td>17:12:34</td>     <th>  Log-Likelihood:    </th> <td> -144.27</td> \n",
       "</tr>\n",
       "<tr>\n",
       "  <th>converged:</th>             <td>True</td>       <th>  LL-Null:           </th> <td> -208.99</td> \n",
       "</tr>\n",
       "<tr>\n",
       "  <th>Covariance Type:</th>     <td>nonrobust</td>    <th>  LLR p-value:       </th> <td>1.692e-25</td>\n",
       "</tr>\n",
       "</table>\n",
       "<table class=\"simpletable\">\n",
       "<tr>\n",
       "         <td></td>           <th>coef</th>     <th>std err</th>      <th>z</th>      <th>P>|z|</th>  <th>[0.025</th>    <th>0.975]</th>  \n",
       "</tr>\n",
       "<tr>\n",
       "  <th>Intercept</th>      <td>   -8.3407</td> <td>    1.621</td> <td>   -5.145</td> <td> 0.000</td> <td>  -11.518</td> <td>   -5.163</td>\n",
       "</tr>\n",
       "<tr>\n",
       "  <th>C(sex)[T.masc]</th> <td>    1.8094</td> <td>    0.353</td> <td>    5.130</td> <td> 0.000</td> <td>    1.118</td> <td>    2.501</td>\n",
       "</tr>\n",
       "<tr>\n",
       "  <th>C(cp)[T.2.0]</th>   <td>   -0.0617</td> <td>    0.636</td> <td>   -0.097</td> <td> 0.923</td> <td>   -1.309</td> <td>    1.186</td>\n",
       "</tr>\n",
       "<tr>\n",
       "  <th>C(cp)[T.3.0]</th>   <td>    0.0715</td> <td>    0.573</td> <td>    0.125</td> <td> 0.901</td> <td>   -1.051</td> <td>    1.194</td>\n",
       "</tr>\n",
       "<tr>\n",
       "  <th>C(cp)[T.4.0]</th>   <td>    2.4789</td> <td>    0.553</td> <td>    4.485</td> <td> 0.000</td> <td>    1.396</td> <td>    3.562</td>\n",
       "</tr>\n",
       "<tr>\n",
       "  <th>trestbps</th>       <td>    0.0193</td> <td>    0.009</td> <td>    2.261</td> <td> 0.024</td> <td>    0.003</td> <td>    0.036</td>\n",
       "</tr>\n",
       "<tr>\n",
       "  <th>age</th>            <td>    0.0567</td> <td>    0.018</td> <td>    3.120</td> <td> 0.002</td> <td>    0.021</td> <td>    0.092</td>\n",
       "</tr>\n",
       "</table>"
      ],
      "text/plain": [
       "<class 'statsmodels.iolib.summary.Summary'>\n",
       "\"\"\"\n",
       "                           Logit Regression Results                           \n",
       "==============================================================================\n",
       "Dep. Variable:            flag_doente   No. Observations:                  303\n",
       "Model:                          Logit   Df Residuals:                      296\n",
       "Method:                           MLE   Df Model:                            6\n",
       "Date:                Wed, 29 May 2024   Pseudo R-squ.:                  0.3097\n",
       "Time:                        17:12:34   Log-Likelihood:                -144.27\n",
       "converged:                       True   LL-Null:                       -208.99\n",
       "Covariance Type:            nonrobust   LLR p-value:                 1.692e-25\n",
       "==================================================================================\n",
       "                     coef    std err          z      P>|z|      [0.025      0.975]\n",
       "----------------------------------------------------------------------------------\n",
       "Intercept         -8.3407      1.621     -5.145      0.000     -11.518      -5.163\n",
       "C(sex)[T.masc]     1.8094      0.353      5.130      0.000       1.118       2.501\n",
       "C(cp)[T.2.0]      -0.0617      0.636     -0.097      0.923      -1.309       1.186\n",
       "C(cp)[T.3.0]       0.0715      0.573      0.125      0.901      -1.051       1.194\n",
       "C(cp)[T.4.0]       2.4789      0.553      4.485      0.000       1.396       3.562\n",
       "trestbps           0.0193      0.009      2.261      0.024       0.003       0.036\n",
       "age                0.0567      0.018      3.120      0.002       0.021       0.092\n",
       "==================================================================================\n",
       "\"\"\""
      ]
     },
     "execution_count": 58,
     "metadata": {},
     "output_type": "execute_result"
    }
   ],
   "source": [
    "reglog3 = smf.logit(\"flag_doente ~ C(sex) + C(cp) + trestbps + age\",data=df).fit()\n",
    "reglog3.summary()"
   ]
  },
  {
   "cell_type": "markdown",
   "metadata": {},
   "source": [
    "Em relação às demais variáveis, podemos ver que age, assim como trestbps perdem um pouco da sua significância, mas é muito pouco mesmo e as duas continuam muito importantes para o modelo. Vamos agora avaliá-lo."
   ]
  },
  {
   "cell_type": "markdown",
   "metadata": {},
   "source": [
    "4. Avalie o seu modelo quanto a **calibragem**:\n",
    "- Calcule a probabilidade de evento predita segundo o seu modelo\n",
    "- Categorize essa probabilidade em G=5 grupos\n",
    "- Calcule a probabilidade de evento predita média por grupo\n",
    "- Calcule a taxa de eventos (média da variável indicadora de eventos) por grupo\n",
    "- Compare graficamente o valor eperado versus observado para a taxa de maus por grupo"
   ]
  },
  {
   "cell_type": "markdown",
   "metadata": {},
   "source": [
    "Inicialmente vamos explorar um pouco os dados da nossa regressão:"
   ]
  },
  {
   "cell_type": "code",
   "execution_count": 59,
   "metadata": {},
   "outputs": [
    {
     "data": {
      "text/plain": [
       "Intercept        -8.340715\n",
       "C(sex)[T.masc]    1.809378\n",
       "C(cp)[T.2.0]     -0.061711\n",
       "C(cp)[T.3.0]      0.071482\n",
       "C(cp)[T.4.0]      2.478856\n",
       "trestbps          0.019274\n",
       "age               0.056652\n",
       "dtype: float64"
      ]
     },
     "execution_count": 59,
     "metadata": {},
     "output_type": "execute_result"
    }
   ],
   "source": [
    "reglog3.params"
   ]
  },
  {
   "cell_type": "markdown",
   "metadata": {},
   "source": [
    "Agora, com base nos dados acima, vamos calcular a chance de ser doente de um homem assintomático. Para isso, faremos o calculo do logarítmo do exponencial do eta. O eta se calcula através da soma do coef do intercepto, com o coef do sex masculino com o coef do assintomático. Feito isso, calcularemos também a probabilidade de ser doente."
   ]
  },
  {
   "cell_type": "code",
   "execution_count": 60,
   "metadata": {},
   "outputs": [
    {
     "name": "stdout",
     "output_type": "stream",
     "text": [
      "0.01737920330419895\n"
     ]
    },
    {
     "data": {
      "text/plain": [
       "0.017082326086237606"
      ]
     },
     "execution_count": 60,
     "metadata": {},
     "output_type": "execute_result"
    }
   ],
   "source": [
    "eta = (-8.340715) + 1.809378 + 2.478856\n",
    "chance = np.exp(eta)\n",
    "prob = 1/(1+np.exp(-eta))\n",
    "print(chance)\n",
    "prob"
   ]
  },
  {
   "cell_type": "markdown",
   "metadata": {},
   "source": [
    "Tanto a chance quanto a probabilidade de um homem assintomático ser doente é muito baixa. "
   ]
  },
  {
   "cell_type": "markdown",
   "metadata": {},
   "source": [
    "Agora para perceber como esses dados se comportariam caso fosse uma mulher assintomática, basta fazer o inverso do calcúlo acima:"
   ]
  },
  {
   "cell_type": "code",
   "execution_count": 61,
   "metadata": {},
   "outputs": [
    {
     "name": "stdout",
     "output_type": "stream",
     "text": [
      "57.540036933591324\n"
     ]
    },
    {
     "data": {
      "text/plain": [
       "58.540036933591324"
      ]
     },
     "execution_count": 61,
     "metadata": {},
     "output_type": "execute_result"
    }
   ],
   "source": [
    "print(1/chance)\n",
    "1/prob"
   ]
  },
  {
   "cell_type": "markdown",
   "metadata": {},
   "source": [
    "Podemos ver aqui que ambos aumentam bastante para o caso da pessoa analisada ser do sexo feminino. "
   ]
  },
  {
   "cell_type": "markdown",
   "metadata": {},
   "source": [
    "A chance de ser doente aumenta 0.019274 no loggito para cada trepstbps aumentado, vamos ver se aumentarmos 10:    "
   ]
  },
  {
   "cell_type": "code",
   "execution_count": 62,
   "metadata": {},
   "outputs": [
    {
     "data": {
      "text/plain": [
       "0.19274"
      ]
     },
     "execution_count": 62,
     "metadata": {},
     "output_type": "execute_result"
    }
   ],
   "source": [
    "10*0.019274"
   ]
  },
  {
   "cell_type": "markdown",
   "metadata": {},
   "source": [
    "Agora que exploramos um pouco nosso modelo de regressão relog3, no qual colocamos todas as variáveis independentes solicitadas, vamos criar no nosso df uma coluna a mais para o predito desse modelo:"
   ]
  },
  {
   "cell_type": "code",
   "execution_count": 63,
   "metadata": {},
   "outputs": [
    {
     "data": {
      "text/html": [
       "<div>\n",
       "<style scoped>\n",
       "    .dataframe tbody tr th:only-of-type {\n",
       "        vertical-align: middle;\n",
       "    }\n",
       "\n",
       "    .dataframe tbody tr th {\n",
       "        vertical-align: top;\n",
       "    }\n",
       "\n",
       "    .dataframe thead th {\n",
       "        text-align: right;\n",
       "    }\n",
       "</style>\n",
       "<table border=\"1\" class=\"dataframe\">\n",
       "  <thead>\n",
       "    <tr style=\"text-align: right;\">\n",
       "      <th></th>\n",
       "      <th>age</th>\n",
       "      <th>sex</th>\n",
       "      <th>cp</th>\n",
       "      <th>trestbps</th>\n",
       "      <th>chol</th>\n",
       "      <th>fbs</th>\n",
       "      <th>restecg</th>\n",
       "      <th>thalach</th>\n",
       "      <th>exang</th>\n",
       "      <th>oldpeak</th>\n",
       "      <th>slope</th>\n",
       "      <th>ca</th>\n",
       "      <th>thal</th>\n",
       "      <th>num</th>\n",
       "      <th>flag_doente</th>\n",
       "      <th>predito</th>\n",
       "    </tr>\n",
       "  </thead>\n",
       "  <tbody>\n",
       "    <tr>\n",
       "      <th>0</th>\n",
       "      <td>63.0</td>\n",
       "      <td>masc</td>\n",
       "      <td>1.0</td>\n",
       "      <td>145.0</td>\n",
       "      <td>233.0</td>\n",
       "      <td>1.0</td>\n",
       "      <td>2.0</td>\n",
       "      <td>150.0</td>\n",
       "      <td>0.0</td>\n",
       "      <td>2.3</td>\n",
       "      <td>3.0</td>\n",
       "      <td>0.0</td>\n",
       "      <td>6.0</td>\n",
       "      <td>0</td>\n",
       "      <td>0</td>\n",
       "      <td>0.458229</td>\n",
       "    </tr>\n",
       "    <tr>\n",
       "      <th>1</th>\n",
       "      <td>67.0</td>\n",
       "      <td>masc</td>\n",
       "      <td>4.0</td>\n",
       "      <td>160.0</td>\n",
       "      <td>286.0</td>\n",
       "      <td>0.0</td>\n",
       "      <td>2.0</td>\n",
       "      <td>108.0</td>\n",
       "      <td>1.0</td>\n",
       "      <td>1.5</td>\n",
       "      <td>2.0</td>\n",
       "      <td>3.0</td>\n",
       "      <td>3.0</td>\n",
       "      <td>2</td>\n",
       "      <td>1</td>\n",
       "      <td>0.944123</td>\n",
       "    </tr>\n",
       "    <tr>\n",
       "      <th>2</th>\n",
       "      <td>67.0</td>\n",
       "      <td>masc</td>\n",
       "      <td>4.0</td>\n",
       "      <td>120.0</td>\n",
       "      <td>229.0</td>\n",
       "      <td>0.0</td>\n",
       "      <td>2.0</td>\n",
       "      <td>129.0</td>\n",
       "      <td>1.0</td>\n",
       "      <td>2.6</td>\n",
       "      <td>2.0</td>\n",
       "      <td>2.0</td>\n",
       "      <td>7.0</td>\n",
       "      <td>1</td>\n",
       "      <td>1</td>\n",
       "      <td>0.886566</td>\n",
       "    </tr>\n",
       "    <tr>\n",
       "      <th>3</th>\n",
       "      <td>37.0</td>\n",
       "      <td>masc</td>\n",
       "      <td>3.0</td>\n",
       "      <td>130.0</td>\n",
       "      <td>250.0</td>\n",
       "      <td>0.0</td>\n",
       "      <td>0.0</td>\n",
       "      <td>187.0</td>\n",
       "      <td>0.0</td>\n",
       "      <td>3.5</td>\n",
       "      <td>3.0</td>\n",
       "      <td>0.0</td>\n",
       "      <td>3.0</td>\n",
       "      <td>0</td>\n",
       "      <td>0</td>\n",
       "      <td>0.134929</td>\n",
       "    </tr>\n",
       "    <tr>\n",
       "      <th>4</th>\n",
       "      <td>41.0</td>\n",
       "      <td>fem</td>\n",
       "      <td>2.0</td>\n",
       "      <td>130.0</td>\n",
       "      <td>204.0</td>\n",
       "      <td>0.0</td>\n",
       "      <td>2.0</td>\n",
       "      <td>172.0</td>\n",
       "      <td>0.0</td>\n",
       "      <td>1.4</td>\n",
       "      <td>1.0</td>\n",
       "      <td>0.0</td>\n",
       "      <td>3.0</td>\n",
       "      <td>0</td>\n",
       "      <td>0</td>\n",
       "      <td>0.027278</td>\n",
       "    </tr>\n",
       "  </tbody>\n",
       "</table>\n",
       "</div>"
      ],
      "text/plain": [
       "    age   sex   cp  trestbps   chol  fbs  restecg  thalach  exang  oldpeak  \\\n",
       "0  63.0  masc  1.0     145.0  233.0  1.0      2.0    150.0    0.0      2.3   \n",
       "1  67.0  masc  4.0     160.0  286.0  0.0      2.0    108.0    1.0      1.5   \n",
       "2  67.0  masc  4.0     120.0  229.0  0.0      2.0    129.0    1.0      2.6   \n",
       "3  37.0  masc  3.0     130.0  250.0  0.0      0.0    187.0    0.0      3.5   \n",
       "4  41.0   fem  2.0     130.0  204.0  0.0      2.0    172.0    0.0      1.4   \n",
       "\n",
       "   slope   ca thal  num  flag_doente   predito  \n",
       "0    3.0  0.0  6.0    0            0  0.458229  \n",
       "1    2.0  3.0  3.0    2            1  0.944123  \n",
       "2    2.0  2.0  7.0    1            1  0.886566  \n",
       "3    3.0  0.0  3.0    0            0  0.134929  \n",
       "4    1.0  0.0  3.0    0            0  0.027278  "
      ]
     },
     "execution_count": 63,
     "metadata": {},
     "output_type": "execute_result"
    }
   ],
   "source": [
    "df['predito'] = reglog3.predict(df)\n",
    "df.head()"
   ]
  },
  {
   "cell_type": "markdown",
   "metadata": {},
   "source": [
    "Agora iremos avaliar a calibragem, para isso, vamos quebrar a nossa variável 'predito' em 5 grupos/categorias, utilizando pd.cut:"
   ]
  },
  {
   "cell_type": "code",
   "execution_count": 64,
   "metadata": {},
   "outputs": [
    {
     "data": {
      "text/plain": [
       "(0.0131, 0.143]    62\n",
       "(0.143, 0.287]     59\n",
       "(0.287, 0.586]     62\n",
       "(0.586, 0.822]     59\n",
       "(0.822, 0.944]     61\n",
       "Name: predito, dtype: int64"
      ]
     },
     "execution_count": 64,
     "metadata": {},
     "output_type": "execute_result"
    }
   ],
   "source": [
    "cat_pred = pd.qcut(df['predito'], 5, duplicates='drop') #diviviu em 5 grupos\n",
    "cat_pred.value_counts().sort_index() #ordenar os grupos"
   ]
  },
  {
   "cell_type": "markdown",
   "metadata": {},
   "source": [
    "Feito isso, vamos criar uma variável que receba o data frame dividido desta forma, para isso, utilizamos um groupby:"
   ]
  },
  {
   "cell_type": "code",
   "execution_count": 65,
   "metadata": {},
   "outputs": [
    {
     "data": {
      "text/plain": [
       "<pandas.core.groupby.generic.DataFrameGroupBy object at 0x000001CAFC048CD0>"
      ]
     },
     "execution_count": 65,
     "metadata": {},
     "output_type": "execute_result"
    }
   ],
   "source": [
    "group_reg = df.groupby(cat_pred) \n",
    "group_reg"
   ]
  },
  {
   "cell_type": "markdown",
   "metadata": {},
   "source": [
    "Agora, vamos criar uma variável que adquira apenas a contagem dos flag_doente do group_reg, recebendo como indice as cinco categorias criadas através do predito:"
   ]
  },
  {
   "cell_type": "code",
   "execution_count": 66,
   "metadata": {},
   "outputs": [
    {
     "data": {
      "text/html": [
       "<div>\n",
       "<style scoped>\n",
       "    .dataframe tbody tr th:only-of-type {\n",
       "        vertical-align: middle;\n",
       "    }\n",
       "\n",
       "    .dataframe tbody tr th {\n",
       "        vertical-align: top;\n",
       "    }\n",
       "\n",
       "    .dataframe thead th {\n",
       "        text-align: right;\n",
       "    }\n",
       "</style>\n",
       "<table border=\"1\" class=\"dataframe\">\n",
       "  <thead>\n",
       "    <tr style=\"text-align: right;\">\n",
       "      <th></th>\n",
       "      <th>contagem</th>\n",
       "    </tr>\n",
       "    <tr>\n",
       "      <th>predito</th>\n",
       "      <th></th>\n",
       "    </tr>\n",
       "  </thead>\n",
       "  <tbody>\n",
       "    <tr>\n",
       "      <th>(0.0131, 0.143]</th>\n",
       "      <td>62</td>\n",
       "    </tr>\n",
       "    <tr>\n",
       "      <th>(0.143, 0.287]</th>\n",
       "      <td>59</td>\n",
       "    </tr>\n",
       "    <tr>\n",
       "      <th>(0.287, 0.586]</th>\n",
       "      <td>62</td>\n",
       "    </tr>\n",
       "    <tr>\n",
       "      <th>(0.586, 0.822]</th>\n",
       "      <td>59</td>\n",
       "    </tr>\n",
       "    <tr>\n",
       "      <th>(0.822, 0.944]</th>\n",
       "      <td>61</td>\n",
       "    </tr>\n",
       "  </tbody>\n",
       "</table>\n",
       "</div>"
      ],
      "text/plain": [
       "                 contagem\n",
       "predito                  \n",
       "(0.0131, 0.143]        62\n",
       "(0.143, 0.287]         59\n",
       "(0.287, 0.586]         62\n",
       "(0.586, 0.822]         59\n",
       "(0.822, 0.944]         61"
      ]
     },
     "execution_count": 66,
     "metadata": {},
     "output_type": "execute_result"
    }
   ],
   "source": [
    "calibre = group_reg[['flag_doente']].count().rename(columns = {'flag_doente': 'contagem'})\n",
    "calibre"
   ]
  },
  {
   "cell_type": "markdown",
   "metadata": {},
   "source": [
    "Ao lado de contagem, vamos adicionar a média do predito:"
   ]
  },
  {
   "cell_type": "code",
   "execution_count": 67,
   "metadata": {},
   "outputs": [
    {
     "data": {
      "text/html": [
       "<div>\n",
       "<style scoped>\n",
       "    .dataframe tbody tr th:only-of-type {\n",
       "        vertical-align: middle;\n",
       "    }\n",
       "\n",
       "    .dataframe tbody tr th {\n",
       "        vertical-align: top;\n",
       "    }\n",
       "\n",
       "    .dataframe thead th {\n",
       "        text-align: right;\n",
       "    }\n",
       "</style>\n",
       "<table border=\"1\" class=\"dataframe\">\n",
       "  <thead>\n",
       "    <tr style=\"text-align: right;\">\n",
       "      <th></th>\n",
       "      <th>contagem</th>\n",
       "      <th>predito</th>\n",
       "    </tr>\n",
       "    <tr>\n",
       "      <th>predito</th>\n",
       "      <th></th>\n",
       "      <th></th>\n",
       "    </tr>\n",
       "  </thead>\n",
       "  <tbody>\n",
       "    <tr>\n",
       "      <th>(0.0131, 0.143]</th>\n",
       "      <td>62</td>\n",
       "      <td>0.072008</td>\n",
       "    </tr>\n",
       "    <tr>\n",
       "      <th>(0.143, 0.287]</th>\n",
       "      <td>59</td>\n",
       "      <td>0.209626</td>\n",
       "    </tr>\n",
       "    <tr>\n",
       "      <th>(0.287, 0.586]</th>\n",
       "      <td>62</td>\n",
       "      <td>0.435175</td>\n",
       "    </tr>\n",
       "    <tr>\n",
       "      <th>(0.586, 0.822]</th>\n",
       "      <td>59</td>\n",
       "      <td>0.708861</td>\n",
       "    </tr>\n",
       "    <tr>\n",
       "      <th>(0.822, 0.944]</th>\n",
       "      <td>61</td>\n",
       "      <td>0.874819</td>\n",
       "    </tr>\n",
       "  </tbody>\n",
       "</table>\n",
       "</div>"
      ],
      "text/plain": [
       "                 contagem   predito\n",
       "predito                            \n",
       "(0.0131, 0.143]        62  0.072008\n",
       "(0.143, 0.287]         59  0.209626\n",
       "(0.287, 0.586]         62  0.435175\n",
       "(0.586, 0.822]         59  0.708861\n",
       "(0.822, 0.944]         61  0.874819"
      ]
     },
     "execution_count": 67,
     "metadata": {},
     "output_type": "execute_result"
    }
   ],
   "source": [
    "calibre['predito'] = group_reg['predito'].mean()\n",
    "calibre"
   ]
  },
  {
   "cell_type": "markdown",
   "metadata": {},
   "source": [
    "Bom, podemos observar no df acima: o índice, que é o agrupamento dos preditos (porcentagem de flag_doente) e a contagem de pessoas que se encaixam em cada categoria. Podemos ver acima em 'predito' que é a média de cada categoria, que algumas porcentagens são bem parecidas, mas agora, de fato vamos adicionar ainda à essse df a real porcentageem de doentes e ver se os valores da previsão são parecidos com os valores reais:"
   ]
  },
  {
   "cell_type": "markdown",
   "metadata": {},
   "source": [
    "Quando pedimos a média de valores 0 e 1, como é o caso de flag_doente, ele devolve a taxa de doentes do grupo no caso:"
   ]
  },
  {
   "cell_type": "code",
   "execution_count": 68,
   "metadata": {},
   "outputs": [
    {
     "data": {
      "text/html": [
       "<div>\n",
       "<style scoped>\n",
       "    .dataframe tbody tr th:only-of-type {\n",
       "        vertical-align: middle;\n",
       "    }\n",
       "\n",
       "    .dataframe tbody tr th {\n",
       "        vertical-align: top;\n",
       "    }\n",
       "\n",
       "    .dataframe thead th {\n",
       "        text-align: right;\n",
       "    }\n",
       "</style>\n",
       "<table border=\"1\" class=\"dataframe\">\n",
       "  <thead>\n",
       "    <tr style=\"text-align: right;\">\n",
       "      <th></th>\n",
       "      <th>contagem</th>\n",
       "      <th>predito</th>\n",
       "      <th>pct_doente</th>\n",
       "    </tr>\n",
       "    <tr>\n",
       "      <th>predito</th>\n",
       "      <th></th>\n",
       "      <th></th>\n",
       "      <th></th>\n",
       "    </tr>\n",
       "  </thead>\n",
       "  <tbody>\n",
       "    <tr>\n",
       "      <th>(0.0131, 0.143]</th>\n",
       "      <td>62</td>\n",
       "      <td>0.072008</td>\n",
       "      <td>0.080645</td>\n",
       "    </tr>\n",
       "    <tr>\n",
       "      <th>(0.143, 0.287]</th>\n",
       "      <td>59</td>\n",
       "      <td>0.209626</td>\n",
       "      <td>0.152542</td>\n",
       "    </tr>\n",
       "    <tr>\n",
       "      <th>(0.287, 0.586]</th>\n",
       "      <td>62</td>\n",
       "      <td>0.435175</td>\n",
       "      <td>0.483871</td>\n",
       "    </tr>\n",
       "    <tr>\n",
       "      <th>(0.586, 0.822]</th>\n",
       "      <td>59</td>\n",
       "      <td>0.708861</td>\n",
       "      <td>0.762712</td>\n",
       "    </tr>\n",
       "    <tr>\n",
       "      <th>(0.822, 0.944]</th>\n",
       "      <td>61</td>\n",
       "      <td>0.874819</td>\n",
       "      <td>0.819672</td>\n",
       "    </tr>\n",
       "  </tbody>\n",
       "</table>\n",
       "</div>"
      ],
      "text/plain": [
       "                 contagem   predito  pct_doente\n",
       "predito                                        \n",
       "(0.0131, 0.143]        62  0.072008    0.080645\n",
       "(0.143, 0.287]         59  0.209626    0.152542\n",
       "(0.287, 0.586]         62  0.435175    0.483871\n",
       "(0.586, 0.822]         59  0.708861    0.762712\n",
       "(0.822, 0.944]         61  0.874819    0.819672"
      ]
     },
     "execution_count": 68,
     "metadata": {},
     "output_type": "execute_result"
    }
   ],
   "source": [
    "calibre['pct_doente'] = group_reg['flag_doente'].mean()\n",
    "calibre"
   ]
  },
  {
   "cell_type": "markdown",
   "metadata": {},
   "source": [
    "De acordo com o DF acima, temos uma previsão muito boa, pois o predito realmente se parece muito com o percentual real de doentes."
   ]
  },
  {
   "cell_type": "markdown",
   "metadata": {},
   "source": [
    "Agora vamos plotar um gráfico de linhas, no mesmo gráfico vamos plotar o percentual de doentes e o percentual predito. "
   ]
  },
  {
   "cell_type": "code",
   "execution_count": 69,
   "metadata": {},
   "outputs": [
    {
     "data": {
      "text/plain": [
       "Text(0.5, 0, 'Grupo')"
      ]
     },
     "execution_count": 69,
     "metadata": {},
     "output_type": "execute_result"
    },
    {
     "data": {
      "image/png": "[encoded data removed]",
      "text/plain": [
       "<Figure size 640x480 with 1 Axes>"
      ]
     },
     "metadata": {},
     "output_type": "display_data"
    }
   ],
   "source": [
    "fig = plt.figure()\n",
    "ax = fig.add_subplot(1, 1, 1)\n",
    "\n",
    "ax = calibre['pct_doente'].plot(label='%Predito')\n",
    "ax = calibre['predito'].plot(label='%Observado')\n",
    "\n",
    "ticks = ax.set_xticks([0, 1, 2, 3, 4])\n",
    "labels = ax.set_xticklabels([1, 2, 3, 4, 5])\n",
    "ax.legend(loc=\"lower right\")\n",
    "ax.set_ylabel('Probabilidade de evento')\n",
    "ax.set_xlabel('Grupo')\n"
   ]
  },
  {
   "cell_type": "markdown",
   "metadata": {},
   "source": [
    "Visualmente, temos um bom encaixe no nosso modelo. "
   ]
  },
  {
   "cell_type": "markdown",
   "metadata": {},
   "source": [
    "5. Avalie o seu modelo quanto a discriminação calculando acurácia, GINI e KS."
   ]
  },
  {
   "cell_type": "markdown",
   "metadata": {},
   "source": [
    "Agora chegou a hora de avaliar nosso modelo, para isso utilizaremos:"
   ]
  },
  {
   "cell_type": "markdown",
   "metadata": {},
   "source": [
    "Acurácia: mede a proporção de previsões corretas feitas por um modelo em relação ao total de previsões.\n",
    "Gini: Usado para medir a capacidade discriminativa de um modelo, indicando quão bem ele separa as classes.\n",
    "KS: Usado para medir a diferença entre as distribuições cumulativas das previsões positivas e negativas. O valor KS é o maior valor dessa diferença e pode ser interpretado como a capacidade do modelo de discriminar entre as duas classes."
   ]
  },
  {
   "cell_type": "code",
   "execution_count": 77,
   "metadata": {},
   "outputs": [
    {
     "name": "stdout",
     "output_type": "stream",
     "text": [
      "Acurácia: 79.54%\n",
      "KS: 59.30%  \n",
      "GINI: 70.39%\n"
     ]
    }
   ],
   "source": [
    "from sklearn import metrics\n",
    "from scipy.stats import ks_2samp\n",
    "\n",
    "#ACURÁCIA\n",
    "acc = metrics.accuracy_score(df['flag_doente'], df['predito']>.5)\n",
    "print('Acurácia: {0:.2f}%'.format(acc*100))\n",
    "\n",
    "#AUC\n",
    "fpr, tpr, thresholds = metrics.roc_curve(df['flag_doente'], df['predito'])\n",
    "auc_ = metrics.auc(fpr, tpr)\n",
    "#GINI\n",
    "gini = 2*auc_ -1\n",
    "\n",
    "#KS\n",
    "ks = ks_2samp(df.loc[df['flag_doente'] == 1, 'predito'], df.loc[df['flag_doente'] != 1, 'predito']).statistic\n",
    "\n",
    "print('KS: {0:.2f}%  \\nGINI: {2:.2f}%'\n",
    "      .format(ks*100, auc_*100, gini*100))"
   ]
  },
  {
   "cell_type": "markdown",
   "metadata": {},
   "source": [
    "Aqui obtivemos uma boa acurácia, indicando que nosso modelo acertou em quase 80% das vezes. Num geral, aparentemente temos um bom modelo, mas vamos tentar melhorá-lo. "
   ]
  },
  {
   "cell_type": "markdown",
   "metadata": {},
   "source": [
    "6. tente melhorar o modelo obtido, por exemplo inserindo ou removendo variáveis.  \n",
    "    Avalie as características do seu modelo (calibragem e acurácia)."
   ]
  },
  {
   "cell_type": "markdown",
   "metadata": {},
   "source": [
    "Vamos fazer uma nova tentiva de modelo, será nomeado reglog4, uma das variáveis pertinentes de ser adicionada, de acordo com nossa análise inicial é a 'exang' que "
   ]
  },
  {
   "cell_type": "code",
   "execution_count": 73,
   "metadata": {},
   "outputs": [
    {
     "name": "stdout",
     "output_type": "stream",
     "text": [
      "Optimization terminated successfully.\n",
      "         Current function value: 0.496439\n",
      "         Iterations 6\n"
     ]
    },
    {
     "data": {
      "text/html": [
       "<table class=\"simpletable\">\n",
       "<caption>Logit Regression Results</caption>\n",
       "<tr>\n",
       "  <th>Dep. Variable:</th>      <td>flag_doente</td>   <th>  No. Observations:  </th>  <td>   303</td>  \n",
       "</tr>\n",
       "<tr>\n",
       "  <th>Model:</th>                 <td>Logit</td>      <th>  Df Residuals:      </th>  <td>   297</td>  \n",
       "</tr>\n",
       "<tr>\n",
       "  <th>Method:</th>                 <td>MLE</td>       <th>  Df Model:          </th>  <td>     5</td>  \n",
       "</tr>\n",
       "<tr>\n",
       "  <th>Date:</th>            <td>Wed, 29 May 2024</td> <th>  Pseudo R-squ.:     </th>  <td>0.2803</td>  \n",
       "</tr>\n",
       "<tr>\n",
       "  <th>Time:</th>                <td>17:14:15</td>     <th>  Log-Likelihood:    </th> <td> -150.42</td> \n",
       "</tr>\n",
       "<tr>\n",
       "  <th>converged:</th>             <td>True</td>       <th>  LL-Null:           </th> <td> -208.99</td> \n",
       "</tr>\n",
       "<tr>\n",
       "  <th>Covariance Type:</th>     <td>nonrobust</td>    <th>  LLR p-value:       </th> <td>1.266e-23</td>\n",
       "</tr>\n",
       "</table>\n",
       "<table class=\"simpletable\">\n",
       "<tr>\n",
       "         <td></td>           <th>coef</th>     <th>std err</th>      <th>z</th>      <th>P>|z|</th>  <th>[0.025</th>    <th>0.975]</th>  \n",
       "</tr>\n",
       "<tr>\n",
       "  <th>Intercept</th>      <td>   -0.8888</td> <td>    1.907</td> <td>   -0.466</td> <td> 0.641</td> <td>   -4.627</td> <td>    2.849</td>\n",
       "</tr>\n",
       "<tr>\n",
       "  <th>C(sex)[T.masc]</th> <td>    1.5217</td> <td>    0.329</td> <td>    4.622</td> <td> 0.000</td> <td>    0.876</td> <td>    2.167</td>\n",
       "</tr>\n",
       "<tr>\n",
       "  <th>age</th>            <td>    0.0286</td> <td>    0.018</td> <td>    1.559</td> <td> 0.119</td> <td>   -0.007</td> <td>    0.065</td>\n",
       "</tr>\n",
       "<tr>\n",
       "  <th>thalach</th>        <td>   -0.0328</td> <td>    0.008</td> <td>   -4.231</td> <td> 0.000</td> <td>   -0.048</td> <td>   -0.018</td>\n",
       "</tr>\n",
       "<tr>\n",
       "  <th>trestbps</th>       <td>    0.0190</td> <td>    0.009</td> <td>    2.220</td> <td> 0.026</td> <td>    0.002</td> <td>    0.036</td>\n",
       "</tr>\n",
       "<tr>\n",
       "  <th>exang</th>          <td>    1.5467</td> <td>    0.321</td> <td>    4.824</td> <td> 0.000</td> <td>    0.918</td> <td>    2.175</td>\n",
       "</tr>\n",
       "</table>"
      ],
      "text/plain": [
       "<class 'statsmodels.iolib.summary.Summary'>\n",
       "\"\"\"\n",
       "                           Logit Regression Results                           \n",
       "==============================================================================\n",
       "Dep. Variable:            flag_doente   No. Observations:                  303\n",
       "Model:                          Logit   Df Residuals:                      297\n",
       "Method:                           MLE   Df Model:                            5\n",
       "Date:                Wed, 29 May 2024   Pseudo R-squ.:                  0.2803\n",
       "Time:                        17:14:15   Log-Likelihood:                -150.42\n",
       "converged:                       True   LL-Null:                       -208.99\n",
       "Covariance Type:            nonrobust   LLR p-value:                 1.266e-23\n",
       "==================================================================================\n",
       "                     coef    std err          z      P>|z|      [0.025      0.975]\n",
       "----------------------------------------------------------------------------------\n",
       "Intercept         -0.8888      1.907     -0.466      0.641      -4.627       2.849\n",
       "C(sex)[T.masc]     1.5217      0.329      4.622      0.000       0.876       2.167\n",
       "age                0.0286      0.018      1.559      0.119      -0.007       0.065\n",
       "thalach           -0.0328      0.008     -4.231      0.000      -0.048      -0.018\n",
       "trestbps           0.0190      0.009      2.220      0.026       0.002       0.036\n",
       "exang              1.5467      0.321      4.824      0.000       0.918       2.175\n",
       "==================================================================================\n",
       "\"\"\""
      ]
     },
     "execution_count": 73,
     "metadata": {},
     "output_type": "execute_result"
    }
   ],
   "source": [
    "reglog4 = smf.logit(\"flag_doente ~  age + thalach + trestbps + C(sex) + exang\",data=df).fit()\n",
    "reglog4.summary()"
   ]
  },
  {
   "cell_type": "markdown",
   "metadata": {},
   "source": [
    "De acordo com o nosso modelo, a única variável que não faz tanto sentido em vista das demais é age, portanto iremos removê-la e então testar a acurácia desse novo modelo que será nomeado de reglog5. Excluiremos também trestbps pois ao deixá-lo no modelo após remover age, ele fica com p-value de 6%."
   ]
  },
  {
   "cell_type": "code",
   "execution_count": 81,
   "metadata": {},
   "outputs": [
    {
     "name": "stdout",
     "output_type": "stream",
     "text": [
      "Optimization terminated successfully.\n",
      "         Current function value: 0.513627\n",
      "         Iterations 6\n"
     ]
    },
    {
     "data": {
      "text/html": [
       "<table class=\"simpletable\">\n",
       "<caption>Logit Regression Results</caption>\n",
       "<tr>\n",
       "  <th>Dep. Variable:</th>      <td>flag_doente</td>   <th>  No. Observations:  </th>  <td>   303</td>  \n",
       "</tr>\n",
       "<tr>\n",
       "  <th>Model:</th>                 <td>Logit</td>      <th>  Df Residuals:      </th>  <td>   299</td>  \n",
       "</tr>\n",
       "<tr>\n",
       "  <th>Method:</th>                 <td>MLE</td>       <th>  Df Model:          </th>  <td>     3</td>  \n",
       "</tr>\n",
       "<tr>\n",
       "  <th>Date:</th>            <td>Wed, 29 May 2024</td> <th>  Pseudo R-squ.:     </th>  <td>0.2553</td>  \n",
       "</tr>\n",
       "<tr>\n",
       "  <th>Time:</th>                <td>17:19:32</td>     <th>  Log-Likelihood:    </th> <td> -155.63</td> \n",
       "</tr>\n",
       "<tr>\n",
       "  <th>converged:</th>             <td>True</td>       <th>  LL-Null:           </th> <td> -208.99</td> \n",
       "</tr>\n",
       "<tr>\n",
       "  <th>Covariance Type:</th>     <td>nonrobust</td>    <th>  LLR p-value:       </th> <td>5.562e-23</td>\n",
       "</tr>\n",
       "</table>\n",
       "<table class=\"simpletable\">\n",
       "<tr>\n",
       "         <td></td>           <th>coef</th>     <th>std err</th>      <th>z</th>      <th>P>|z|</th>  <th>[0.025</th>    <th>0.975]</th>  \n",
       "</tr>\n",
       "<tr>\n",
       "  <th>Intercept</th>      <td>    3.8805</td> <td>    1.076</td> <td>    3.608</td> <td> 0.000</td> <td>    1.773</td> <td>    5.988</td>\n",
       "</tr>\n",
       "<tr>\n",
       "  <th>C(sex)[T.masc]</th> <td>    1.3395</td> <td>    0.312</td> <td>    4.292</td> <td> 0.000</td> <td>    0.728</td> <td>    1.951</td>\n",
       "</tr>\n",
       "<tr>\n",
       "  <th>thalach</th>        <td>   -0.0364</td> <td>    0.007</td> <td>   -5.156</td> <td> 0.000</td> <td>   -0.050</td> <td>   -0.023</td>\n",
       "</tr>\n",
       "<tr>\n",
       "  <th>exang</th>          <td>    1.5345</td> <td>    0.313</td> <td>    4.899</td> <td> 0.000</td> <td>    0.921</td> <td>    2.148</td>\n",
       "</tr>\n",
       "</table>"
      ],
      "text/plain": [
       "<class 'statsmodels.iolib.summary.Summary'>\n",
       "\"\"\"\n",
       "                           Logit Regression Results                           \n",
       "==============================================================================\n",
       "Dep. Variable:            flag_doente   No. Observations:                  303\n",
       "Model:                          Logit   Df Residuals:                      299\n",
       "Method:                           MLE   Df Model:                            3\n",
       "Date:                Wed, 29 May 2024   Pseudo R-squ.:                  0.2553\n",
       "Time:                        17:19:32   Log-Likelihood:                -155.63\n",
       "converged:                       True   LL-Null:                       -208.99\n",
       "Covariance Type:            nonrobust   LLR p-value:                 5.562e-23\n",
       "==================================================================================\n",
       "                     coef    std err          z      P>|z|      [0.025      0.975]\n",
       "----------------------------------------------------------------------------------\n",
       "Intercept          3.8805      1.076      3.608      0.000       1.773       5.988\n",
       "C(sex)[T.masc]     1.3395      0.312      4.292      0.000       0.728       1.951\n",
       "thalach           -0.0364      0.007     -5.156      0.000      -0.050      -0.023\n",
       "exang              1.5345      0.313      4.899      0.000       0.921       2.148\n",
       "==================================================================================\n",
       "\"\"\""
      ]
     },
     "execution_count": 81,
     "metadata": {},
     "output_type": "execute_result"
    }
   ],
   "source": [
    "reglog5 = smf.logit(\"flag_doente ~  thalach +  C(sex) + exang\",data=df).fit()\n",
    "reglog5.summary()"
   ]
  },
  {
   "cell_type": "markdown",
   "metadata": {},
   "source": [
    "Para agilizar a nossa calibragem, vamos apenas repetir os passos feitos acima. "
   ]
  },
  {
   "cell_type": "code",
   "execution_count": 84,
   "metadata": {},
   "outputs": [
    {
     "data": {
      "text/html": [
       "<div>\n",
       "<style scoped>\n",
       "    .dataframe tbody tr th:only-of-type {\n",
       "        vertical-align: middle;\n",
       "    }\n",
       "\n",
       "    .dataframe tbody tr th {\n",
       "        vertical-align: top;\n",
       "    }\n",
       "\n",
       "    .dataframe thead th {\n",
       "        text-align: right;\n",
       "    }\n",
       "</style>\n",
       "<table border=\"1\" class=\"dataframe\">\n",
       "  <thead>\n",
       "    <tr style=\"text-align: right;\">\n",
       "      <th></th>\n",
       "      <th>contagem</th>\n",
       "      <th>predito</th>\n",
       "      <th>pct_doente</th>\n",
       "    </tr>\n",
       "    <tr>\n",
       "      <th>predito</th>\n",
       "      <th></th>\n",
       "      <th></th>\n",
       "      <th></th>\n",
       "    </tr>\n",
       "  </thead>\n",
       "  <tbody>\n",
       "    <tr>\n",
       "      <th>(0.0415, 0.18]</th>\n",
       "      <td>61</td>\n",
       "      <td>0.118704</td>\n",
       "      <td>0.131148</td>\n",
       "    </tr>\n",
       "    <tr>\n",
       "      <th>(0.18, 0.334]</th>\n",
       "      <td>60</td>\n",
       "      <td>0.256076</td>\n",
       "      <td>0.250000</td>\n",
       "    </tr>\n",
       "    <tr>\n",
       "      <th>(0.334, 0.485]</th>\n",
       "      <td>61</td>\n",
       "      <td>0.402944</td>\n",
       "      <td>0.344262</td>\n",
       "    </tr>\n",
       "    <tr>\n",
       "      <th>(0.485, 0.802]</th>\n",
       "      <td>60</td>\n",
       "      <td>0.627050</td>\n",
       "      <td>0.683333</td>\n",
       "    </tr>\n",
       "    <tr>\n",
       "      <th>(0.802, 0.972]</th>\n",
       "      <td>61</td>\n",
       "      <td>0.888392</td>\n",
       "      <td>0.885246</td>\n",
       "    </tr>\n",
       "  </tbody>\n",
       "</table>\n",
       "</div>"
      ],
      "text/plain": [
       "                contagem   predito  pct_doente\n",
       "predito                                       \n",
       "(0.0415, 0.18]        61  0.118704    0.131148\n",
       "(0.18, 0.334]         60  0.256076    0.250000\n",
       "(0.334, 0.485]        61  0.402944    0.344262\n",
       "(0.485, 0.802]        60  0.627050    0.683333\n",
       "(0.802, 0.972]        61  0.888392    0.885246"
      ]
     },
     "execution_count": 84,
     "metadata": {},
     "output_type": "execute_result"
    }
   ],
   "source": [
    "df['predito'] = reglog5.predict(df)\n",
    "cat_pred = pd.qcut(df['predito'], 5, duplicates='drop') #diviviu em 5 grupos\n",
    "cat_pred.value_counts().sort_index() #ordenar os grupos\n",
    "group_reg = df.groupby(cat_pred) \n",
    "calibre = group_reg[['flag_doente']].count().rename(columns = {'flag_doente': 'contagem'})\n",
    "calibre['predito'] = group_reg['predito'].mean()\n",
    "calibre['pct_doente'] = group_reg['flag_doente'].mean()\n",
    "calibre"
   ]
  },
  {
   "cell_type": "markdown",
   "metadata": {},
   "source": [
    "Aqui também obtivemos valores bons, mas talvez não tão bons quanto os do modelo anterior. Vamos plotar o gráfico:"
   ]
  },
  {
   "cell_type": "code",
   "execution_count": 85,
   "metadata": {},
   "outputs": [
    {
     "data": {
      "text/plain": [
       "Text(0.5, 0, 'Grupo')"
      ]
     },
     "execution_count": 85,
     "metadata": {},
     "output_type": "execute_result"
    },
    {
     "data": {
      "image/png": "[encoded data removed]",
      "text/plain": [
       "<Figure size 640x480 with 1 Axes>"
      ]
     },
     "metadata": {},
     "output_type": "display_data"
    }
   ],
   "source": [
    "fig = plt.figure()\n",
    "ax = fig.add_subplot(1, 1, 1)\n",
    "\n",
    "ax = calibre['pct_doente'].plot(label='%Predito')\n",
    "ax = calibre['predito'].plot(label='%Observado')\n",
    "\n",
    "ticks = ax.set_xticks([0, 1, 2, 3, 4])\n",
    "labels = ax.set_xticklabels([1, 2, 3, 4, 5])\n",
    "ax.legend(loc=\"lower right\")\n",
    "ax.set_ylabel('Probabilidade de evento')\n",
    "ax.set_xlabel('Grupo')"
   ]
  },
  {
   "cell_type": "markdown",
   "metadata": {},
   "source": [
    "Para tirarmos a dúvida, vamos calcular as métricas de acurácia:"
   ]
  },
  {
   "cell_type": "code",
   "execution_count": 86,
   "metadata": {},
   "outputs": [
    {
     "name": "stdout",
     "output_type": "stream",
     "text": [
      "Acurácia: 76.90%\n",
      "KS: 53.49%  \n",
      "GINI: 64.66%\n"
     ]
    }
   ],
   "source": [
    "#ACURÁCIA\n",
    "acc = metrics.accuracy_score(df['flag_doente'], df['predito']>.5)\n",
    "print('Acurácia: {0:.2f}%'.format(acc*100))\n",
    "\n",
    "#AUC\n",
    "fpr, tpr, thresholds = metrics.roc_curve(df['flag_doente'], df['predito'])\n",
    "auc_ = metrics.auc(fpr, tpr)\n",
    "#GINI\n",
    "gini = 2*auc_ -1\n",
    "\n",
    "#KS\n",
    "ks = ks_2samp(df.loc[df['flag_doente'] == 1, 'predito'], df.loc[df['flag_doente'] != 1, 'predito']).statistic\n",
    "\n",
    "print('KS: {0:.2f}%  \\nGINI: {2:.2f}%'\n",
    "      .format(ks*100, auc_*100, gini*100))"
   ]
  },
  {
   "cell_type": "markdown",
   "metadata": {},
   "source": [
    "Aqui também obtivemos um modelo bom, mas o anterior, sugerido pelo exercício é ainda melhor."
   ]
  }
 ],
 "metadata": {
  "kernelspec": {
   "display_name": "Python 3 (ipykernel)",
   "language": "python",
   "name": "python3"
  },
  "language_info": {
   "codemirror_mode": {
    "name": "ipython",
    "version": 3
   },
   "file_extension": ".py",
   "mimetype": "text/x-python",
   "name": "python",
   "nbconvert_exporter": "python",
   "pygments_lexer": "ipython3",
   "version": "3.11.3"
  }
 },
 "nbformat": 4,
 "nbformat_minor": 4
}
