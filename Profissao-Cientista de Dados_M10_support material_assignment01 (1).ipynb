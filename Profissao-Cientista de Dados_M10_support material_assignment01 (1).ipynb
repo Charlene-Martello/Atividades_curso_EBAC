{
 "cells": [
  {
   "cell_type": "markdown",
   "metadata": {},
   "source": [
    "# Módulo 10 atividade 1"
   ]
  },
  {
   "cell_type": "code",
   "execution_count": 11,
   "metadata": {},
   "outputs": [],
   "source": [
    "import numpy as np\n",
    "import pandas as pd\n",
    "import matplotlib.pyplot as plt\n",
    "import seaborn as sns\n",
    "# Fixing random state for reproducibility\n",
    "np.random.seed(2360873)\n"
   ]
  },
  {
   "cell_type": "markdown",
   "metadata": {},
   "source": [
    "Uma instituição financeira quer conhecer melhor o perfil de renda de seus novos clientes para diversos fins, por exemplo, melhor dimensionar o limite de cartões de crédito dos novos clientes, sem necessariamente solicitar olerites ou documentações que impactem na experiência do seu cliente.\n",
    "\n",
    "Para isto, conduziu um estudo com alguns clientes, comprovando suas rendas através de olerites e outros documentos, e pretende construir um modelo preditivo para esta renda com base em algumas variáveis que já possui em seu banco de dados.\n",
    "\n",
    "As variáveis são intuitivas - note que há uma variável 'index' que é um identificador do cliente e que em geral o ```read_csv``` do pandas coloca também uma variável sequencial.\n",
    "\n",
    "Estes dados estão no arquivo ```previsao_de_renda.csv```. Carregue-o em um *dataframe*.\n",
    "\n",
    "1) Avalie a estrutura de correlação das variáveis quantitativas através de um gráfico de \"matriz de dispersão\" e através da avaliação gráfica da matriz de correlações. Veja se você identifica algum padrão interessante ou que te faça sentido."
   ]
  },
  {
   "cell_type": "code",
   "execution_count": 15,
   "metadata": {},
   "outputs": [],
   "source": [
    "#leitura do arquivo previsão de renda:\n",
    "dados_clientes= pd.read_csv('previsao_de_renda.csv')"
   ]
  },
  {
   "cell_type": "code",
   "execution_count": 16,
   "metadata": {
    "scrolled": true
   },
   "outputs": [
    {
     "data": {
      "text/plain": [
       "Index(['Unnamed: 0', 'data_ref', 'index', 'sexo', 'posse_de_veiculo',\n",
       "       'posse_de_imovel', 'qtd_filhos', 'tipo_renda', 'educacao',\n",
       "       'estado_civil', 'tipo_residencia', 'idade', 'tempo_emprego',\n",
       "       'qt_pessoas_residencia', 'mau', 'renda'],\n",
       "      dtype='object')"
      ]
     },
     "execution_count": 16,
     "metadata": {},
     "output_type": "execute_result"
    }
   ],
   "source": [
    "#nome de todas as colunas:\n",
    "dados_clientes.columns"
   ]
  },
  {
   "cell_type": "code",
   "execution_count": 17,
   "metadata": {},
   "outputs": [
    {
     "data": {
      "text/html": [
       "<div>\n",
       "<style scoped>\n",
       "    .dataframe tbody tr th:only-of-type {\n",
       "        vertical-align: middle;\n",
       "    }\n",
       "\n",
       "    .dataframe tbody tr th {\n",
       "        vertical-align: top;\n",
       "    }\n",
       "\n",
       "    .dataframe thead th {\n",
       "        text-align: right;\n",
       "    }\n",
       "</style>\n",
       "<table border=\"1\" class=\"dataframe\">\n",
       "  <thead>\n",
       "    <tr style=\"text-align: right;\">\n",
       "      <th></th>\n",
       "      <th>index</th>\n",
       "      <th>sexo</th>\n",
       "      <th>posse_de_veiculo</th>\n",
       "      <th>posse_de_imovel</th>\n",
       "      <th>qtd_filhos</th>\n",
       "      <th>tipo_renda</th>\n",
       "      <th>educacao</th>\n",
       "      <th>estado_civil</th>\n",
       "      <th>tipo_residencia</th>\n",
       "      <th>idade</th>\n",
       "      <th>tempo_emprego</th>\n",
       "      <th>qt_pessoas_residencia</th>\n",
       "      <th>mau</th>\n",
       "      <th>renda</th>\n",
       "    </tr>\n",
       "  </thead>\n",
       "  <tbody>\n",
       "    <tr>\n",
       "      <th>0</th>\n",
       "      <td>8682</td>\n",
       "      <td>F</td>\n",
       "      <td>False</td>\n",
       "      <td>True</td>\n",
       "      <td>1</td>\n",
       "      <td>Assalariado</td>\n",
       "      <td>Secundário</td>\n",
       "      <td>Casado</td>\n",
       "      <td>Casa</td>\n",
       "      <td>36</td>\n",
       "      <td>3.575342</td>\n",
       "      <td>3.0</td>\n",
       "      <td>False</td>\n",
       "      <td>3369.24</td>\n",
       "    </tr>\n",
       "    <tr>\n",
       "      <th>1</th>\n",
       "      <td>12830</td>\n",
       "      <td>M</td>\n",
       "      <td>True</td>\n",
       "      <td>True</td>\n",
       "      <td>0</td>\n",
       "      <td>Empresário</td>\n",
       "      <td>Secundário</td>\n",
       "      <td>Casado</td>\n",
       "      <td>Casa</td>\n",
       "      <td>42</td>\n",
       "      <td>0.860274</td>\n",
       "      <td>2.0</td>\n",
       "      <td>False</td>\n",
       "      <td>6096.14</td>\n",
       "    </tr>\n",
       "    <tr>\n",
       "      <th>2</th>\n",
       "      <td>2885</td>\n",
       "      <td>M</td>\n",
       "      <td>True</td>\n",
       "      <td>True</td>\n",
       "      <td>2</td>\n",
       "      <td>Assalariado</td>\n",
       "      <td>Superior completo</td>\n",
       "      <td>Casado</td>\n",
       "      <td>Casa</td>\n",
       "      <td>31</td>\n",
       "      <td>8.065753</td>\n",
       "      <td>4.0</td>\n",
       "      <td>False</td>\n",
       "      <td>5658.98</td>\n",
       "    </tr>\n",
       "    <tr>\n",
       "      <th>3</th>\n",
       "      <td>16168</td>\n",
       "      <td>F</td>\n",
       "      <td>True</td>\n",
       "      <td>False</td>\n",
       "      <td>0</td>\n",
       "      <td>Empresário</td>\n",
       "      <td>Secundário</td>\n",
       "      <td>Casado</td>\n",
       "      <td>Casa</td>\n",
       "      <td>50</td>\n",
       "      <td>1.208219</td>\n",
       "      <td>2.0</td>\n",
       "      <td>False</td>\n",
       "      <td>7246.69</td>\n",
       "    </tr>\n",
       "    <tr>\n",
       "      <th>4</th>\n",
       "      <td>12438</td>\n",
       "      <td>M</td>\n",
       "      <td>False</td>\n",
       "      <td>False</td>\n",
       "      <td>0</td>\n",
       "      <td>Assalariado</td>\n",
       "      <td>Secundário</td>\n",
       "      <td>Casado</td>\n",
       "      <td>Casa</td>\n",
       "      <td>52</td>\n",
       "      <td>13.873973</td>\n",
       "      <td>2.0</td>\n",
       "      <td>False</td>\n",
       "      <td>4017.37</td>\n",
       "    </tr>\n",
       "    <tr>\n",
       "      <th>...</th>\n",
       "      <td>...</td>\n",
       "      <td>...</td>\n",
       "      <td>...</td>\n",
       "      <td>...</td>\n",
       "      <td>...</td>\n",
       "      <td>...</td>\n",
       "      <td>...</td>\n",
       "      <td>...</td>\n",
       "      <td>...</td>\n",
       "      <td>...</td>\n",
       "      <td>...</td>\n",
       "      <td>...</td>\n",
       "      <td>...</td>\n",
       "      <td>...</td>\n",
       "    </tr>\n",
       "    <tr>\n",
       "      <th>14995</th>\n",
       "      <td>3678</td>\n",
       "      <td>M</td>\n",
       "      <td>True</td>\n",
       "      <td>True</td>\n",
       "      <td>1</td>\n",
       "      <td>Assalariado</td>\n",
       "      <td>Secundário</td>\n",
       "      <td>Casado</td>\n",
       "      <td>Casa</td>\n",
       "      <td>37</td>\n",
       "      <td>2.046575</td>\n",
       "      <td>3.0</td>\n",
       "      <td>False</td>\n",
       "      <td>1193.29</td>\n",
       "    </tr>\n",
       "    <tr>\n",
       "      <th>14996</th>\n",
       "      <td>3405</td>\n",
       "      <td>M</td>\n",
       "      <td>True</td>\n",
       "      <td>True</td>\n",
       "      <td>1</td>\n",
       "      <td>Servidor público</td>\n",
       "      <td>Superior completo</td>\n",
       "      <td>Casado</td>\n",
       "      <td>Estúdio</td>\n",
       "      <td>30</td>\n",
       "      <td>12.079452</td>\n",
       "      <td>3.0</td>\n",
       "      <td>False</td>\n",
       "      <td>2519.18</td>\n",
       "    </tr>\n",
       "    <tr>\n",
       "      <th>14997</th>\n",
       "      <td>7944</td>\n",
       "      <td>F</td>\n",
       "      <td>True</td>\n",
       "      <td>True</td>\n",
       "      <td>0</td>\n",
       "      <td>Assalariado</td>\n",
       "      <td>Secundário</td>\n",
       "      <td>Casado</td>\n",
       "      <td>Casa</td>\n",
       "      <td>40</td>\n",
       "      <td>2.161644</td>\n",
       "      <td>2.0</td>\n",
       "      <td>False</td>\n",
       "      <td>1586.85</td>\n",
       "    </tr>\n",
       "    <tr>\n",
       "      <th>14998</th>\n",
       "      <td>16019</td>\n",
       "      <td>F</td>\n",
       "      <td>False</td>\n",
       "      <td>True</td>\n",
       "      <td>0</td>\n",
       "      <td>Servidor público</td>\n",
       "      <td>Superior completo</td>\n",
       "      <td>Casado</td>\n",
       "      <td>Casa</td>\n",
       "      <td>47</td>\n",
       "      <td>3.295890</td>\n",
       "      <td>2.0</td>\n",
       "      <td>False</td>\n",
       "      <td>6975.39</td>\n",
       "    </tr>\n",
       "    <tr>\n",
       "      <th>14999</th>\n",
       "      <td>12895</td>\n",
       "      <td>F</td>\n",
       "      <td>True</td>\n",
       "      <td>True</td>\n",
       "      <td>0</td>\n",
       "      <td>Assalariado</td>\n",
       "      <td>Secundário</td>\n",
       "      <td>Casado</td>\n",
       "      <td>Casa</td>\n",
       "      <td>50</td>\n",
       "      <td>3.049315</td>\n",
       "      <td>2.0</td>\n",
       "      <td>False</td>\n",
       "      <td>993.86</td>\n",
       "    </tr>\n",
       "  </tbody>\n",
       "</table>\n",
       "<p>15000 rows × 14 columns</p>\n",
       "</div>"
      ],
      "text/plain": [
       "       index sexo  posse_de_veiculo  posse_de_imovel  qtd_filhos  \\\n",
       "0       8682    F             False             True           1   \n",
       "1      12830    M              True             True           0   \n",
       "2       2885    M              True             True           2   \n",
       "3      16168    F              True            False           0   \n",
       "4      12438    M             False            False           0   \n",
       "...      ...  ...               ...              ...         ...   \n",
       "14995   3678    M              True             True           1   \n",
       "14996   3405    M              True             True           1   \n",
       "14997   7944    F              True             True           0   \n",
       "14998  16019    F             False             True           0   \n",
       "14999  12895    F              True             True           0   \n",
       "\n",
       "             tipo_renda           educacao estado_civil tipo_residencia  \\\n",
       "0           Assalariado         Secundário       Casado            Casa   \n",
       "1            Empresário         Secundário       Casado            Casa   \n",
       "2           Assalariado  Superior completo       Casado            Casa   \n",
       "3            Empresário         Secundário       Casado            Casa   \n",
       "4           Assalariado         Secundário       Casado            Casa   \n",
       "...                 ...                ...          ...             ...   \n",
       "14995       Assalariado         Secundário       Casado            Casa   \n",
       "14996  Servidor público  Superior completo       Casado         Estúdio   \n",
       "14997       Assalariado         Secundário       Casado            Casa   \n",
       "14998  Servidor público  Superior completo       Casado            Casa   \n",
       "14999       Assalariado         Secundário       Casado            Casa   \n",
       "\n",
       "       idade  tempo_emprego  qt_pessoas_residencia    mau    renda  \n",
       "0         36       3.575342                    3.0  False  3369.24  \n",
       "1         42       0.860274                    2.0  False  6096.14  \n",
       "2         31       8.065753                    4.0  False  5658.98  \n",
       "3         50       1.208219                    2.0  False  7246.69  \n",
       "4         52      13.873973                    2.0  False  4017.37  \n",
       "...      ...            ...                    ...    ...      ...  \n",
       "14995     37       2.046575                    3.0  False  1193.29  \n",
       "14996     30      12.079452                    3.0  False  2519.18  \n",
       "14997     40       2.161644                    2.0  False  1586.85  \n",
       "14998     47       3.295890                    2.0  False  6975.39  \n",
       "14999     50       3.049315                    2.0  False   993.86  \n",
       "\n",
       "[15000 rows x 14 columns]"
      ]
     },
     "execution_count": 17,
     "metadata": {},
     "output_type": "execute_result"
    }
   ],
   "source": [
    "#apagando variáveis não úteis na análise, como unnamed que repete o índice e data\n",
    "var_preditivas= dados_clientes.drop('Unnamed: 0', axis=1)\n",
    "var_preditivas.drop('data_ref', axis=1)"
   ]
  },
  {
   "cell_type": "code",
   "execution_count": 18,
   "metadata": {},
   "outputs": [
    {
     "data": {
      "text/html": [
       "<div>\n",
       "<style scoped>\n",
       "    .dataframe tbody tr th:only-of-type {\n",
       "        vertical-align: middle;\n",
       "    }\n",
       "\n",
       "    .dataframe tbody tr th {\n",
       "        vertical-align: top;\n",
       "    }\n",
       "\n",
       "    .dataframe thead th {\n",
       "        text-align: right;\n",
       "    }\n",
       "</style>\n",
       "<table border=\"1\" class=\"dataframe\">\n",
       "  <thead>\n",
       "    <tr style=\"text-align: right;\">\n",
       "      <th></th>\n",
       "      <th>index</th>\n",
       "      <th>posse_de_veiculo</th>\n",
       "      <th>posse_de_imovel</th>\n",
       "      <th>qtd_filhos</th>\n",
       "      <th>idade</th>\n",
       "      <th>tempo_emprego</th>\n",
       "      <th>qt_pessoas_residencia</th>\n",
       "      <th>mau</th>\n",
       "      <th>renda</th>\n",
       "    </tr>\n",
       "  </thead>\n",
       "  <tbody>\n",
       "    <tr>\n",
       "      <th>index</th>\n",
       "      <td>1.000000</td>\n",
       "      <td>-0.007542</td>\n",
       "      <td>-0.099683</td>\n",
       "      <td>0.039734</td>\n",
       "      <td>-0.047971</td>\n",
       "      <td>-0.034574</td>\n",
       "      <td>0.041818</td>\n",
       "      <td>0.130691</td>\n",
       "      <td>-0.001740</td>\n",
       "    </tr>\n",
       "    <tr>\n",
       "      <th>posse_de_veiculo</th>\n",
       "      <td>-0.007542</td>\n",
       "      <td>1.000000</td>\n",
       "      <td>-0.014727</td>\n",
       "      <td>0.107959</td>\n",
       "      <td>-0.157837</td>\n",
       "      <td>-0.087514</td>\n",
       "      <td>0.156009</td>\n",
       "      <td>-0.017617</td>\n",
       "      <td>0.063414</td>\n",
       "    </tr>\n",
       "    <tr>\n",
       "      <th>posse_de_imovel</th>\n",
       "      <td>-0.099683</td>\n",
       "      <td>-0.014727</td>\n",
       "      <td>1.000000</td>\n",
       "      <td>-0.002525</td>\n",
       "      <td>0.122667</td>\n",
       "      <td>0.000112</td>\n",
       "      <td>-0.007180</td>\n",
       "      <td>-0.022499</td>\n",
       "      <td>0.029827</td>\n",
       "    </tr>\n",
       "    <tr>\n",
       "      <th>qtd_filhos</th>\n",
       "      <td>0.039734</td>\n",
       "      <td>0.107959</td>\n",
       "      <td>-0.002525</td>\n",
       "      <td>1.000000</td>\n",
       "      <td>-0.364303</td>\n",
       "      <td>-0.074250</td>\n",
       "      <td>0.896488</td>\n",
       "      <td>0.009544</td>\n",
       "      <td>0.009567</td>\n",
       "    </tr>\n",
       "    <tr>\n",
       "      <th>idade</th>\n",
       "      <td>-0.047971</td>\n",
       "      <td>-0.157837</td>\n",
       "      <td>0.122667</td>\n",
       "      <td>-0.364303</td>\n",
       "      <td>1.000000</td>\n",
       "      <td>0.323934</td>\n",
       "      <td>-0.338805</td>\n",
       "      <td>-0.011087</td>\n",
       "      <td>0.042570</td>\n",
       "    </tr>\n",
       "    <tr>\n",
       "      <th>tempo_emprego</th>\n",
       "      <td>-0.034574</td>\n",
       "      <td>-0.087514</td>\n",
       "      <td>0.000112</td>\n",
       "      <td>-0.074250</td>\n",
       "      <td>0.323934</td>\n",
       "      <td>1.000000</td>\n",
       "      <td>-0.065748</td>\n",
       "      <td>-0.047722</td>\n",
       "      <td>0.394235</td>\n",
       "    </tr>\n",
       "    <tr>\n",
       "      <th>qt_pessoas_residencia</th>\n",
       "      <td>0.041818</td>\n",
       "      <td>0.156009</td>\n",
       "      <td>-0.007180</td>\n",
       "      <td>0.896488</td>\n",
       "      <td>-0.338805</td>\n",
       "      <td>-0.065748</td>\n",
       "      <td>1.000000</td>\n",
       "      <td>-0.001555</td>\n",
       "      <td>0.020977</td>\n",
       "    </tr>\n",
       "    <tr>\n",
       "      <th>mau</th>\n",
       "      <td>0.130691</td>\n",
       "      <td>-0.017617</td>\n",
       "      <td>-0.022499</td>\n",
       "      <td>0.009544</td>\n",
       "      <td>-0.011087</td>\n",
       "      <td>-0.047722</td>\n",
       "      <td>-0.001555</td>\n",
       "      <td>1.000000</td>\n",
       "      <td>-0.011577</td>\n",
       "    </tr>\n",
       "    <tr>\n",
       "      <th>renda</th>\n",
       "      <td>-0.001740</td>\n",
       "      <td>0.063414</td>\n",
       "      <td>0.029827</td>\n",
       "      <td>0.009567</td>\n",
       "      <td>0.042570</td>\n",
       "      <td>0.394235</td>\n",
       "      <td>0.020977</td>\n",
       "      <td>-0.011577</td>\n",
       "      <td>1.000000</td>\n",
       "    </tr>\n",
       "  </tbody>\n",
       "</table>\n",
       "</div>"
      ],
      "text/plain": [
       "                          index  posse_de_veiculo  posse_de_imovel  \\\n",
       "index                  1.000000         -0.007542        -0.099683   \n",
       "posse_de_veiculo      -0.007542          1.000000        -0.014727   \n",
       "posse_de_imovel       -0.099683         -0.014727         1.000000   \n",
       "qtd_filhos             0.039734          0.107959        -0.002525   \n",
       "idade                 -0.047971         -0.157837         0.122667   \n",
       "tempo_emprego         -0.034574         -0.087514         0.000112   \n",
       "qt_pessoas_residencia  0.041818          0.156009        -0.007180   \n",
       "mau                    0.130691         -0.017617        -0.022499   \n",
       "renda                 -0.001740          0.063414         0.029827   \n",
       "\n",
       "                       qtd_filhos     idade  tempo_emprego  \\\n",
       "index                    0.039734 -0.047971      -0.034574   \n",
       "posse_de_veiculo         0.107959 -0.157837      -0.087514   \n",
       "posse_de_imovel         -0.002525  0.122667       0.000112   \n",
       "qtd_filhos               1.000000 -0.364303      -0.074250   \n",
       "idade                   -0.364303  1.000000       0.323934   \n",
       "tempo_emprego           -0.074250  0.323934       1.000000   \n",
       "qt_pessoas_residencia    0.896488 -0.338805      -0.065748   \n",
       "mau                      0.009544 -0.011087      -0.047722   \n",
       "renda                    0.009567  0.042570       0.394235   \n",
       "\n",
       "                       qt_pessoas_residencia       mau     renda  \n",
       "index                               0.041818  0.130691 -0.001740  \n",
       "posse_de_veiculo                    0.156009 -0.017617  0.063414  \n",
       "posse_de_imovel                    -0.007180 -0.022499  0.029827  \n",
       "qtd_filhos                          0.896488  0.009544  0.009567  \n",
       "idade                              -0.338805 -0.011087  0.042570  \n",
       "tempo_emprego                      -0.065748 -0.047722  0.394235  \n",
       "qt_pessoas_residencia               1.000000 -0.001555  0.020977  \n",
       "mau                                -0.001555  1.000000 -0.011577  \n",
       "renda                               0.020977 -0.011577  1.000000  "
      ]
     },
     "execution_count": 18,
     "metadata": {},
     "output_type": "execute_result"
    }
   ],
   "source": [
    "#matrix de correlação \n",
    "var_preditivas.corr()"
   ]
  },
  {
   "cell_type": "markdown",
   "metadata": {},
   "source": [
    "De acordo com a matriz de correlação, não há FORTES correlações de outras variáveis com a renda. "
   ]
  },
  {
   "cell_type": "code",
   "execution_count": 19,
   "metadata": {},
   "outputs": [
    {
     "data": {
      "text/plain": [
       "<seaborn.matrix.ClusterGrid at 0x7f9efec45700>"
      ]
     },
     "execution_count": 19,
     "metadata": {},
     "output_type": "execute_result"
    },
    {
     "data": {
      "image/png": "[encoded data removed]",
      "text/plain": [
       "<Figure size 720x720 with 4 Axes>"
      ]
     },
     "metadata": {
      "needs_background": "light"
     },
     "output_type": "display_data"
    }
   ],
   "source": [
    "#gráfico indicado p correlação de muitas variáveis\n",
    "cmap = sns.diverging_palette(h_neg=125, h_pos=350, as_cmap=True, sep = 60, center = 'light')\n",
    "#hneg e hpos são as cores do positivo e negativo, ascmap true é para mapeamento de cores, center=light é p centrar em uma cor clara\n",
    "sns.clustermap(var_preditivas.corr(), figsize=(10, 10), center = 0, cmap=cmap)\n",
    "#center=0 é importante p que fique branco próximo ou no 0"
   ]
  },
  {
   "cell_type": "markdown",
   "metadata": {},
   "source": [
    "Confirmando a suspeita anterior, o ClusterMap nos mostra que não há fortes correlações com a renda, apenas uma variável está um pouco correlacionada com ela, que é a variável tempo de emprego."
   ]
  },
  {
   "cell_type": "markdown",
   "metadata": {},
   "source": [
    "2) Avalie um gráfico de dispersão (*scatterplot*) específico para as duas variáveis mais correlacionadas com *renda*."
   ]
  },
  {
   "cell_type": "markdown",
   "metadata": {},
   "source": [
    "De acorco com o exposto acima, há apenas uma variável correlacionada com renda, que é a variável tempo_emprego. "
   ]
  },
  {
   "cell_type": "code",
   "execution_count": 20,
   "metadata": {},
   "outputs": [
    {
     "data": {
      "image/png": "[encoded data removed]",
      "text/plain": [
       "<Figure size 432x288 with 1 Axes>"
      ]
     },
     "metadata": {
      "needs_background": "light"
     },
     "output_type": "display_data"
    }
   ],
   "source": [
    "#plotando o gráfico da váriavél renda x tempo de emprego\n",
    "_ = sns.regplot(x='tempo_emprego', y='renda', data = var_preditivas)\n"
   ]
  },
  {
   "cell_type": "markdown",
   "metadata": {},
   "source": [
    "3) Na sua opinião, há outliers na variável renda?"
   ]
  },
  {
   "cell_type": "markdown",
   "metadata": {},
   "source": [
    "Analisando brevemente o gráfico, o valor acima de 80 mil parecem estar um pouco distante dos demais, mas como essa distância não é absurdamente grande, podemos testar outros métodos de análise. "
   ]
  },
  {
   "cell_type": "markdown",
   "metadata": {},
   "source": [
    "4) Calcule o logaritmo da variável renda e repita a sequência de análise"
   ]
  },
  {
   "cell_type": "code",
   "execution_count": null,
   "metadata": {},
   "outputs": [],
   "source": [
    "#criando uma nova variável que receberá uma cópia das var_preditivas:\n",
    "var_preditivas_log= var_preditivas.copy()"
   ]
  },
  {
   "cell_type": "code",
   "execution_count": 21,
   "metadata": {},
   "outputs": [],
   "source": [
    "#nessa nova variável, criando uma coluna que receberá o log de renda:\n",
    "var_preditivas_log['log_y']= np.log(var_preditivas['renda'])"
   ]
  },
  {
   "cell_type": "code",
   "execution_count": 22,
   "metadata": {},
   "outputs": [
    {
     "data": {
      "image/png": "[encoded data removed]",
      "text/plain": [
       "<Figure size 432x288 with 1 Axes>"
      ]
     },
     "metadata": {
      "needs_background": "light"
     },
     "output_type": "display_data"
    }
   ],
   "source": [
    "#plotando o gráfico log de renda x tempo de emprego\n",
    "_ = sns.regplot(x='tempo_emprego', y='log_y', data = var_preditivas_log)"
   ]
  },
  {
   "cell_type": "markdown",
   "metadata": {},
   "source": [
    "5) A aplicação do LOG você acha que melhorou ou piorou a análise?"
   ]
  },
  {
   "cell_type": "markdown",
   "metadata": {},
   "source": [
    "Com a aplicação do log parece não haver outliers na análise e também ressalta que quanto maior o tempo de emprego, maior o salário, podendo dizer assim que ele melhorou a experiência de visualização do gráfico."
   ]
  },
  {
   "cell_type": "code",
   "execution_count": 23,
   "metadata": {},
   "outputs": [
    {
     "data": {
      "text/html": [
       "<div>\n",
       "<style scoped>\n",
       "    .dataframe tbody tr th:only-of-type {\n",
       "        vertical-align: middle;\n",
       "    }\n",
       "\n",
       "    .dataframe tbody tr th {\n",
       "        vertical-align: top;\n",
       "    }\n",
       "\n",
       "    .dataframe thead th {\n",
       "        text-align: right;\n",
       "    }\n",
       "</style>\n",
       "<table border=\"1\" class=\"dataframe\">\n",
       "  <thead>\n",
       "    <tr style=\"text-align: right;\">\n",
       "      <th></th>\n",
       "      <th>tempo_emprego</th>\n",
       "      <th>renda</th>\n",
       "      <th>log_y</th>\n",
       "    </tr>\n",
       "  </thead>\n",
       "  <tbody>\n",
       "    <tr>\n",
       "      <th>tempo_emprego</th>\n",
       "      <td>1.000000</td>\n",
       "      <td>0.394235</td>\n",
       "      <td>0.379556</td>\n",
       "    </tr>\n",
       "    <tr>\n",
       "      <th>renda</th>\n",
       "      <td>0.394235</td>\n",
       "      <td>1.000000</td>\n",
       "      <td>0.835734</td>\n",
       "    </tr>\n",
       "    <tr>\n",
       "      <th>log_y</th>\n",
       "      <td>0.379556</td>\n",
       "      <td>0.835734</td>\n",
       "      <td>1.000000</td>\n",
       "    </tr>\n",
       "  </tbody>\n",
       "</table>\n",
       "</div>"
      ],
      "text/plain": [
       "               tempo_emprego     renda     log_y\n",
       "tempo_emprego       1.000000  0.394235  0.379556\n",
       "renda               0.394235  1.000000  0.835734\n",
       "log_y               0.379556  0.835734  1.000000"
      ]
     },
     "execution_count": 23,
     "metadata": {},
     "output_type": "execute_result"
    }
   ],
   "source": [
    "var_preditivas_log[['tempo_emprego', 'renda', 'log_y']].corr()"
   ]
  }
 ],
 "metadata": {
  "kernelspec": {
   "display_name": "Python 3 (ipykernel)",
   "language": "python",
   "name": "python3"
  },
  "language_info": {
   "codemirror_mode": {
    "name": "ipython",
    "version": 3
   },
   "file_extension": ".py",
   "mimetype": "text/x-python",
   "name": "python",
   "nbconvert_exporter": "python",
   "pygments_lexer": "ipython3",
   "version": "3.9.12"
  }
 },
 "nbformat": 4,
 "nbformat_minor": 4
}
