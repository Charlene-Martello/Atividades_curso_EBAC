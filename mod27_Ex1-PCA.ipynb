{
 "cells": [
  {
   "cell_type": "markdown",
   "metadata": {},
   "source": [
    "# PCA - Tarefa 01: *HAR* com PCA\n",
    "\n",
    "Vamos trabalhar com a base: [Human Activity Recognition Using Smartphones](https://archive.ics.uci.edu/dataset/240/human+activity+recognition+using+smartphones). Por se tratar de uma base com um número elevado de variáveis, iremos realizar a redução de dimensionalidade.\n"
   ]
  },
  {
   "cell_type": "code",
   "execution_count": 223,
   "metadata": {},
   "outputs": [],
   "source": [
    "import pandas as pd\n",
    "import numpy as np\n",
    "\n",
    "from sklearn.tree import DecisionTreeClassifier\n",
    "\n",
    "from sklearn.decomposition import PCA\n",
    "from sklearn.metrics import accuracy_score\n",
    "from sklearn.model_selection import cross_val_score\n",
    "from sklearn.model_selection import GridSearchCV\n",
    "from sklearn.preprocessing import StandardScaler"
   ]
  },
  {
   "cell_type": "code",
   "execution_count": 225,
   "metadata": {},
   "outputs": [],
   "source": [
    "#carregando as bases\n",
    "filename_features = \"features.txt\"\n",
    "filename_labels = \"activity_labels.txt\"\n",
    "\n",
    "filename_subtrain = \"subject_train.txt\"\n",
    "filename_xtrain = \"X_train.txt\"\n",
    "filename_ytrain = \"y_train.txt\"\n",
    "\n",
    "filename_subtest = \"subject_test.txt\"\n",
    "filename_xtest = \"X_test.txt\"\n",
    "filename_ytest = \"y_test.txt\"\n",
    "\n",
    "# Lendo o arquivo de características e convertendo para lista\n",
    "features = pd.read_csv(filename_features, header=None, sep=\"#\")\n",
    "features_list = features.iloc[:, 0].tolist()\n",
    "\n",
    "# Lendo os rótulos\n",
    "labels = pd.read_csv(filename_labels, sep=r'\\s+', header=None, names=['cod_label', 'label'])\n",
    "\n",
    "# Lendo os dados de treino\n",
    "subject_train = pd.read_csv(filename_subtrain, header=None, names=['subject_id'])\n",
    "X_train = pd.read_csv(filename_xtrain, sep=r'\\s+', header=None, names=features_list)\n",
    "y_train = pd.read_csv(filename_ytrain, header=None, names=['cod_label'])\n",
    "\n",
    "# Lendo os dados de teste\n",
    "subject_test = pd.read_csv(filename_subtest, header=None, names=['subject_id'])\n",
    "X_test = pd.read_csv(filename_xtest, sep=r'\\s+', header=None, names=features_list)\n",
    "y_test = pd.read_csv(filename_ytest, header=None, names=['cod_label'])"
   ]
  },
  {
   "cell_type": "markdown",
   "metadata": {},
   "source": [
    "Vamos observar o número de colunas da nossa base:"
   ]
  },
  {
   "cell_type": "code",
   "execution_count": 227,
   "metadata": {},
   "outputs": [
    {
     "data": {
      "text/plain": [
       "(7352, 561)"
      ]
     },
     "execution_count": 227,
     "metadata": {},
     "output_type": "execute_result"
    }
   ],
   "source": [
    "X_train.shape"
   ]
  },
  {
   "cell_type": "markdown",
   "metadata": {},
   "source": [
    "Vimos aqui que nossa base dispõe de 561 colunas e ai vem um ponto importante, como definir as melhores variáveis para treinar um modelo? Afinal, quanto maior a base, maior o tempo de processamento. Para resolver esse problema utilizaremos a metodologia PCA (ANALISE DOS COMPONENTES PRINCIPAIS), que tem como objetivo fazer uma transformação linear nas variáveis através da sua correlação e criar então a quantidade de componentes necessária. É como se criassemos um novo data frame através da combinação das variáveis de um antigo."
   ]
  },
  {
   "cell_type": "markdown",
   "metadata": {},
   "source": [
    "Para iniciar a nossa análise e também comparação de tempo de processamento, iremos treinar uma árvore de ccp_alpha=0.001 para todas as variáveis, ou seja, sem alterar nosso df."
   ]
  },
  {
   "cell_type": "markdown",
   "metadata": {},
   "source": [
    "## Árvore de decisão\n",
    "\n",
    "Iremos rodar uma árvore de decisão com todas as variáveis, utilizando o ```ccp_alpha=0.001```. **Avaliaremos a acurácia** nas bases de treinamento e teste, assim como o tempo de processamento. Também **faremos a validação cruzada, calcularemos sua média e desvio padrão**."
   ]
  },
  {
   "cell_type": "code",
   "execution_count": 234,
   "metadata": {},
   "outputs": [
    {
     "name": "stdout",
     "output_type": "stream",
     "text": [
      "CPU times: total: 5.31 s\n",
      "Wall time: 5.33 s\n"
     ]
    }
   ],
   "source": [
    "%%time\n",
    "# Criando e treinando a árvore de decisão\n",
    "clf = DecisionTreeClassifier(random_state=1234, ccp_alpha=0.001).fit(X_train, y_train)"
   ]
  },
  {
   "cell_type": "markdown",
   "metadata": {},
   "source": [
    "Agora que temos a árvore criada e treinada, iremos observar as **métricas de performance do nosso modelo**:"
   ]
  },
  {
   "cell_type": "code",
   "execution_count": 236,
   "metadata": {},
   "outputs": [
    {
     "name": "stdout",
     "output_type": "stream",
     "text": [
      "Acurácia na base de treino: 0.9758\n",
      "Acurácia na base de teste: 0.8795\n",
      "Acurácia média da validação cruzada: 0.8581\n",
      "Desvio padrão da validação cruzada: 0.0309\n"
     ]
    }
   ],
   "source": [
    "# Previsões\n",
    "y_train_pred = clf.predict(X_train)\n",
    "y_test_pred = clf.predict(X_test)\n",
    "\n",
    "# Avaliando a acurácia\n",
    "train_accuracy = accuracy_score(y_train, y_train_pred)\n",
    "test_accuracy = accuracy_score(y_test, y_test_pred)\n",
    "\n",
    "# Resultados\n",
    "print(f\"Acurácia na base de treino: {train_accuracy:.4f}\")\n",
    "print(f\"Acurácia na base de teste: {test_accuracy:.4f}\")\n",
    "\n",
    "# Validação cruzada\n",
    "cv_scores = cross_val_score(clf, X_train, y_train.values.ravel(), cv=5)  # 5-fold cross-validation\n",
    "\n",
    "# Média e desvio padrão das acurácias\n",
    "mean_cv_accuracy = cv_scores.mean()\n",
    "std_cv_accuracy = np.std(cv_scores)\n",
    "\n",
    "# Resultados\n",
    "print(f\"Acurácia média da validação cruzada: {mean_cv_accuracy:.4f}\")\n",
    "print(f\"Desvio padrão da validação cruzada: {std_cv_accuracy:.4f}\")"
   ]
  },
  {
   "cell_type": "markdown",
   "metadata": {},
   "source": [
    "**Desempenho Geral:** Juntas, essas métricas indicam que o modelo está se saindo bem, com uma boa capacidade de generalização, uma vez que a acurácia da base de teste e da validação cuzada indicam mais de 85% das previsões estão corretas. O modelo também apresenta um desvio padrão baixo, o que sugere que o modelo é consistente e confiável. \n",
    "_Quanto ao tempo_ tivemos um bom desempenho, uma vez que indicamos um ccp_alpha em vez de testar os obtidos pelo cost_complexity_pruning_path, mas vale lembrar que aqui temos mais de 500 variáveis, portanto, vamos observar como nosso modelo se sai após a redução de complexidade.\n"
   ]
  },
  {
   "cell_type": "markdown",
   "metadata": {},
   "source": [
    "_obs_: no meu computador a árvore rodou em 5.33s. "
   ]
  },
  {
   "cell_type": "markdown",
   "metadata": {},
   "source": [
    "## Árvore com PCA  \n",
    "\n",
    "### Apresentação das Funções Utilizadas:\n",
    "Agora, iremos realizar a redução de complexidade, que ocorre quando o nosso modelo, através de uma transformação linear, utilizando todas as variáveis, criará o que chamamos de componentes principais, ou seja, novas variáveis que transmitem a correlação entre as variáveis originais. O número de novas variáveis, componentes desejadss deve ser informado.\n",
    "\n",
    "Como nosso objetivo aqui é treinar árvores que recebem um número diferente de componentes principais, vamos agilizar o processo de criação de componentes principais, utilizando uma função que recebe como entrada a quantidade de componentes que desejamos criar e imprime o resultado.\n"
   ]
  },
  {
   "cell_type": "code",
   "execution_count": 241,
   "metadata": {},
   "outputs": [],
   "source": [
    "def pca_qtd(X_train, X_test, n=1):\n",
    "    # Ajustar PCA e transformar os dados\n",
    "    prcomp = PCA(n_components=n).fit(X_train)\n",
    "    pc_treino = prcomp.transform(X_train)\n",
    "    pc_teste = prcomp.transform(X_test)\n",
    "\n",
    "    # Criar nomes das colunas\n",
    "    colunas = ['cp' + str(x + 1) for x in range(n)]\n",
    "\n",
    "    # Criar DataFrames\n",
    "    pc_train = pd.DataFrame(pc_treino[:, :n], columns=colunas)\n",
    "    pc_test = pd.DataFrame(pc_teste[:, :n], columns=colunas)\n",
    "\n",
    "    # Imprimir os DataFrames\n",
    "    print(\"DataFrame de Treino:\")\n",
    "    print(pc_train.head(5))\n",
    "    print(\"\\nDataFrame de Teste:\")\n",
    "    print(pc_test.head(5))"
   ]
  },
  {
   "cell_type": "markdown",
   "metadata": {},
   "source": [
    "Na hora de criar esses componentes principais, exibidos acima, todas as variáveis são utilizadas, entretanto, algumas tem uma influência muito maior que outras e **para descobrir quais são as 3 variáveis mais influentes na criação de um componente, vamos utilizar a função abaixo:**\n",
    "\n",
    "_OBS_: utilizamos o método transform para obter os dados escalonados, transformados."
   ]
  },
  {
   "cell_type": "code",
   "execution_count": 244,
   "metadata": {},
   "outputs": [],
   "source": [
    "def significante_variavel_(df, n_components, top_n=3):\n",
    "    # Padronizando os dados\n",
    "    scaler = StandardScaler()\n",
    "    X_scaled = scaler.fit_transform(df)\n",
    "\n",
    "    # Realizando PCA\n",
    "    pca = PCA(n_components=n_components)\n",
    "    pca.fit(X_scaled)\n",
    "\n",
    "    # Obtendo os componentes principais\n",
    "    components = pca.components_\n",
    "\n",
    "    # Criando um DataFrame com os loadings\n",
    "    loadings_df = pd.DataFrame(components, columns=df.columns, index=[f'PC{i+1}' for i in range(n_components)])\n",
    "\n",
    "    # Criando uma lista para armazenar as informações para o DataFrame\n",
    "    records = []\n",
    "\n",
    "    for i in range(n_components):\n",
    "        component_name = f'PC{i+1}'\n",
    "        \n",
    "        # Obtendo as variáveis e seus loadings: \n",
    "            #abs: Calcula o valor absoluto das cargas\n",
    "            #nlargest(top_n): Retorna as top_n variáveis com maiores cargas absolutas.\n",
    "        influential_vars = loadings_df.loc[component_name].abs().nlargest(top_n)\n",
    "        \n",
    "        for var, loading_value in influential_vars.items():\n",
    "            records.append({'Component': component_name, 'Variable': var, 'Loading': loading_value})\n",
    "\n",
    "    # Criando o DataFrame final\n",
    "    organized_df = pd.DataFrame(records)\n",
    "\n",
    "    return organized_df"
   ]
  },
  {
   "cell_type": "markdown",
   "metadata": {},
   "source": [
    "A função acima será utilizada posteriormente e ela nos retornará as variáveis mais importantes de forma decrescente, lembrando que a função acima é mais para sanar curiosidade. Agora que já temos uma função para definir a quantidade de componentes principais e uma que nos mostra as variáveis mais influentes na composição destes, vamos treinar uma árvore de decisão com ccp_alpha = 0.001 e fazer a exibição das métricas.\n",
    "O objetivo é treinar uma árvore semelhante àuela treinada antes de fazer a redução de complexidade do dataframe para comparar os resultados. Como serão várias árvores, criaremos uma **função para obter as métricas de maneira mais rápida**. "
   ]
  },
  {
   "cell_type": "code",
   "execution_count": 125,
   "metadata": {},
   "outputs": [],
   "source": [
    "def metricas_avaliacao(model, pc_treino, y_train, pc_teste, y_test, cv=5):\n",
    "    # Criando DataFrames para as componentes principais\n",
    "    colunas = ['cp' + str(x + 1) for x in range(pc_treino.shape[1])]\n",
    "    pc_train = pd.DataFrame(pc_treino, columns=colunas)\n",
    "    pc_test = pd.DataFrame(pc_teste, columns=colunas)\n",
    "\n",
    "    # Treinando o modelo com todos os dados de treino\n",
    "    model.fit(pc_train, y_train)\n",
    "\n",
    "    # Acurácia na base de treino\n",
    "    train_accuracy = accuracy_score(y_train, model.predict(pc_train))\n",
    "\n",
    "    # Acurácia na base de teste\n",
    "    test_accuracy = accuracy_score(y_test, model.predict(pc_test))\n",
    "\n",
    "    # Validação cruzada\n",
    "    cv_scores = cross_val_score(model, pc_train, y_train, cv=cv)\n",
    "    mean_cv_accuracy = cv_scores.mean()\n",
    "    std_cv_accuracy = np.std(cv_scores)\n",
    "\n",
    "    # Resultados com arredondamento\n",
    "    results = {\n",
    "        \"Acurácia na base de treino\": round(train_accuracy, 3),\n",
    "        \"Acurácia na base de teste\": round(test_accuracy, 3),\n",
    "        \"Acurácia média da validação cruzada\": round(mean_cv_accuracy, 3),\n",
    "        \"Desvio padrão da validação cruzada\": round(std_cv_accuracy, 3)\n",
    "    }\n",
    "\n",
    "    return results"
   ]
  },
  {
   "cell_type": "markdown",
   "metadata": {},
   "source": [
    "Agora que criamos algumas funções para facilitar nossas análises, vamos inciar o treinamento da árvore de ccp_alpha=0.01 através da variação do número de componentes gerados. Como já criamos as funções, basta aplicá-las."
   ]
  },
  {
   "cell_type": "markdown",
   "metadata": {},
   "source": [
    "### Realização da Análise dos Componentes Principais e Treinamento de Modelo:"
   ]
  },
  {
   "cell_type": "markdown",
   "metadata": {},
   "source": [
    "#### Transformação do dataframe e obtenção de um componente:"
   ]
  },
  {
   "cell_type": "code",
   "execution_count": 290,
   "metadata": {},
   "outputs": [
    {
     "name": "stdout",
     "output_type": "stream",
     "text": [
      "CPU times: total: 469 ms\n",
      "Wall time: 124 ms\n"
     ]
    }
   ],
   "source": [
    "%%time\n",
    "#transformação do df para 1 componente:\n",
    "prcomp = PCA(n_components=1).fit(X_train)\n",
    "\n",
    "pc_treino = prcomp.transform(X_train)\n",
    "pc_teste  = prcomp.transform(X_test)"
   ]
  },
  {
   "cell_type": "code",
   "execution_count": 281,
   "metadata": {},
   "outputs": [
    {
     "name": "stdout",
     "output_type": "stream",
     "text": [
      "DataFrame de Treino:\n",
      "        cp1\n",
      "0 -5.520280\n",
      "1 -5.535350\n",
      "2 -5.474988\n",
      "3 -5.677232\n",
      "4 -5.748749\n",
      "\n",
      "DataFrame de Teste:\n",
      "        cp1\n",
      "0 -2.686743\n",
      "1 -4.331255\n",
      "2 -4.985360\n",
      "3 -5.099876\n",
      "4 -5.023000\n"
     ]
    }
   ],
   "source": [
    "#exibindo os componentes criados:\n",
    "df_1=pca_qtd(X_train, X_test, n=1)"
   ]
  },
  {
   "cell_type": "markdown",
   "metadata": {},
   "source": [
    "Vamos descobrir as 3 mais significativas utilizadas na criação do componente, vejamos para X_train."
   ]
  },
  {
   "cell_type": "code",
   "execution_count": 259,
   "metadata": {},
   "outputs": [
    {
     "data": {
      "text/html": [
       "<div>\n",
       "<style scoped>\n",
       "    .dataframe tbody tr th:only-of-type {\n",
       "        vertical-align: middle;\n",
       "    }\n",
       "\n",
       "    .dataframe tbody tr th {\n",
       "        vertical-align: top;\n",
       "    }\n",
       "\n",
       "    .dataframe thead th {\n",
       "        text-align: right;\n",
       "    }\n",
       "</style>\n",
       "<table border=\"1\" class=\"dataframe\">\n",
       "  <thead>\n",
       "    <tr style=\"text-align: right;\">\n",
       "      <th></th>\n",
       "      <th>Component</th>\n",
       "      <th>Variable</th>\n",
       "      <th>Loading</th>\n",
       "    </tr>\n",
       "  </thead>\n",
       "  <tbody>\n",
       "    <tr>\n",
       "      <th>0</th>\n",
       "      <td>PC1</td>\n",
       "      <td>281 fBodyAcc-sma()</td>\n",
       "      <td>0.058571</td>\n",
       "    </tr>\n",
       "    <tr>\n",
       "      <th>1</th>\n",
       "      <td>PC1</td>\n",
       "      <td>360 fBodyAccJerk-sma()</td>\n",
       "      <td>0.058568</td>\n",
       "    </tr>\n",
       "    <tr>\n",
       "      <th>2</th>\n",
       "      <td>PC1</td>\n",
       "      <td>96 tBodyAccJerk-sma()</td>\n",
       "      <td>0.058538</td>\n",
       "    </tr>\n",
       "  </tbody>\n",
       "</table>\n",
       "</div>"
      ],
      "text/plain": [
       "  Component                Variable   Loading\n",
       "0       PC1      281 fBodyAcc-sma()  0.058571\n",
       "1       PC1  360 fBodyAccJerk-sma()  0.058568\n",
       "2       PC1   96 tBodyAccJerk-sma()  0.058538"
      ]
     },
     "execution_count": 259,
     "metadata": {},
     "output_type": "execute_result"
    }
   ],
   "source": [
    "significante_variavel_(X_train, 1, top_n=3)"
   ]
  },
  {
   "cell_type": "markdown",
   "metadata": {},
   "source": [
    "Agora que criamos o componente e vimos quais as principais variáveis utilizadas para sua transformação, vejamos as métricas de desempenho de uma árvore com ccp_alpha = 0.001 rodando esse novo df com apenas um componente."
   ]
  },
  {
   "cell_type": "code",
   "execution_count": 262,
   "metadata": {},
   "outputs": [
    {
     "name": "stdout",
     "output_type": "stream",
     "text": [
      "CPU times: total: 31.2 ms\n",
      "Wall time: 39.5 ms\n"
     ]
    }
   ],
   "source": [
    "%%time\n",
    "clf1 = DecisionTreeClassifier(random_state=1234, ccp_alpha=0.001).fit(pc_treino, y_train)"
   ]
  },
  {
   "cell_type": "code",
   "execution_count": 264,
   "metadata": {},
   "outputs": [
    {
     "data": {
      "text/plain": [
       "{'Acurácia na base de treino': 0.5,\n",
       " 'Acurácia na base de teste': 0.457,\n",
       " 'Acurácia média da validação cruzada': 0.475,\n",
       " 'Desvio padrão da validação cruzada': 0.043}"
      ]
     },
     "execution_count": 264,
     "metadata": {},
     "output_type": "execute_result"
    }
   ],
   "source": [
    "metricas_avaliacao(clf1, pc_treino, y_train, pc_teste, y_test)"
   ]
  },
  {
   "cell_type": "markdown",
   "metadata": {},
   "source": [
    "O tempo de processamento da nossa árvore com um componente foi de 39,5ms, ou seja, quase 135 vezes mais rápido que a mesma árvore rodando com as 561 variáveis originais, logo, o processamento é muito mais rápido. Entretanto, como aqui temos apenas 1 componente, nossa acurácia é muito inferior à outra. Concluindo, temos um ganho enorme em tempo mas uma perca muito grande em qualidade. Vamos testar a mesma árvore mas agora com mais componentes gerados a partir dos 561 originais."
   ]
  },
  {
   "cell_type": "markdown",
   "metadata": {},
   "source": [
    "#### Transformação do dataframe e obtenção de dois componentes:"
   ]
  },
  {
   "cell_type": "code",
   "execution_count": 310,
   "metadata": {},
   "outputs": [
    {
     "name": "stdout",
     "output_type": "stream",
     "text": [
      "CPU times: total: 422 ms\n",
      "Wall time: 125 ms\n"
     ]
    }
   ],
   "source": [
    "%%time\n",
    "#transformação do df para 2 componentes:\n",
    "prcomp = PCA(n_components=2).fit(X_train)\n",
    "\n",
    "pc_treino = prcomp.transform(X_train)\n",
    "pc_teste  = prcomp.transform(X_test)"
   ]
  },
  {
   "cell_type": "code",
   "execution_count": 312,
   "metadata": {},
   "outputs": [
    {
     "name": "stdout",
     "output_type": "stream",
     "text": [
      "DataFrame de Treino:\n",
      "        cp1       cp2\n",
      "0 -5.520280 -0.290278\n",
      "1 -5.535350 -0.082530\n",
      "2 -5.474988  0.287387\n",
      "3 -5.677232  0.897031\n",
      "4 -5.748749  1.162952\n",
      "\n",
      "DataFrame de Teste:\n",
      "        cp1       cp2\n",
      "0 -2.686743 -1.216821\n",
      "1 -4.331255 -0.766327\n",
      "2 -4.985360  0.371301\n",
      "3 -5.099876  0.243743\n",
      "4 -5.023000 -0.518739\n"
     ]
    }
   ],
   "source": [
    "#exibindo os componentes:\n",
    "df2= pca_qtd(X_train, X_test, n=2)\n",
    "df2"
   ]
  },
  {
   "cell_type": "code",
   "execution_count": 314,
   "metadata": {},
   "outputs": [
    {
     "data": {
      "text/html": [
       "<div>\n",
       "<style scoped>\n",
       "    .dataframe tbody tr th:only-of-type {\n",
       "        vertical-align: middle;\n",
       "    }\n",
       "\n",
       "    .dataframe tbody tr th {\n",
       "        vertical-align: top;\n",
       "    }\n",
       "\n",
       "    .dataframe thead th {\n",
       "        text-align: right;\n",
       "    }\n",
       "</style>\n",
       "<table border=\"1\" class=\"dataframe\">\n",
       "  <thead>\n",
       "    <tr style=\"text-align: right;\">\n",
       "      <th></th>\n",
       "      <th>Component</th>\n",
       "      <th>Variable</th>\n",
       "      <th>Loading</th>\n",
       "    </tr>\n",
       "  </thead>\n",
       "  <tbody>\n",
       "    <tr>\n",
       "      <th>0</th>\n",
       "      <td>PC1</td>\n",
       "      <td>281 fBodyAcc-sma()</td>\n",
       "      <td>0.058571</td>\n",
       "    </tr>\n",
       "    <tr>\n",
       "      <th>1</th>\n",
       "      <td>PC1</td>\n",
       "      <td>360 fBodyAccJerk-sma()</td>\n",
       "      <td>0.058568</td>\n",
       "    </tr>\n",
       "    <tr>\n",
       "      <th>2</th>\n",
       "      <td>PC1</td>\n",
       "      <td>96 tBodyAccJerk-sma()</td>\n",
       "      <td>0.058538</td>\n",
       "    </tr>\n",
       "    <tr>\n",
       "      <th>3</th>\n",
       "      <td>PC2</td>\n",
       "      <td>296 fBodyAcc-meanFreq()-Z</td>\n",
       "      <td>0.122385</td>\n",
       "    </tr>\n",
       "    <tr>\n",
       "      <th>4</th>\n",
       "      <td>PC2</td>\n",
       "      <td>249 tBodyGyroMag-arCoeff()1</td>\n",
       "      <td>0.119783</td>\n",
       "    </tr>\n",
       "    <tr>\n",
       "      <th>5</th>\n",
       "      <td>PC2</td>\n",
       "      <td>210 tBodyAccMag-arCoeff()1</td>\n",
       "      <td>0.118162</td>\n",
       "    </tr>\n",
       "  </tbody>\n",
       "</table>\n",
       "</div>"
      ],
      "text/plain": [
       "  Component                     Variable   Loading\n",
       "0       PC1           281 fBodyAcc-sma()  0.058571\n",
       "1       PC1       360 fBodyAccJerk-sma()  0.058568\n",
       "2       PC1        96 tBodyAccJerk-sma()  0.058538\n",
       "3       PC2    296 fBodyAcc-meanFreq()-Z  0.122385\n",
       "4       PC2  249 tBodyGyroMag-arCoeff()1  0.119783\n",
       "5       PC2   210 tBodyAccMag-arCoeff()1  0.118162"
      ]
     },
     "execution_count": 314,
     "metadata": {},
     "output_type": "execute_result"
    }
   ],
   "source": [
    "significante_variavel_(X_train, 2, top_n=3)"
   ]
  },
  {
   "cell_type": "code",
   "execution_count": 318,
   "metadata": {},
   "outputs": [
    {
     "name": "stdout",
     "output_type": "stream",
     "text": [
      "CPU times: total: 31.2 ms\n",
      "Wall time: 36.2 ms\n"
     ]
    }
   ],
   "source": [
    "%%time\n",
    "clf2 = DecisionTreeClassifier(random_state=1234, ccp_alpha=0.001).fit(pc_treino, y_train)"
   ]
  },
  {
   "cell_type": "code",
   "execution_count": 321,
   "metadata": {},
   "outputs": [
    {
     "data": {
      "text/plain": [
       "{'Acurácia na base de treino': 0.613,\n",
       " 'Acurácia na base de teste': 0.585,\n",
       " 'Acurácia média da validação cruzada': 0.574,\n",
       " 'Desvio padrão da validação cruzada': 0.034}"
      ]
     },
     "execution_count": 321,
     "metadata": {},
     "output_type": "execute_result"
    }
   ],
   "source": [
    "metricas_avaliacao(clf2, pc_treino, y_train, pc_teste, y_test)"
   ]
  },
  {
   "cell_type": "markdown",
   "metadata": {},
   "source": [
    "Utilizando dois componentes eu ainda tenho um desempenho espetacular em relação ao uso de todas as variáveis e já tive um aumento nas métricas de avalição se comparado com apenas 1 componente. Entretanto, essas métricas ainda não são muito satisfatórias, prosseguiremos testanto outros números de componentes. "
   ]
  },
  {
   "cell_type": "markdown",
   "metadata": {},
   "source": [
    "#### Transformação do dataframe e obtenção de três componentes componentes:"
   ]
  },
  {
   "cell_type": "code",
   "execution_count": 326,
   "metadata": {},
   "outputs": [
    {
     "name": "stdout",
     "output_type": "stream",
     "text": [
      "CPU times: total: 375 ms\n",
      "Wall time: 127 ms\n"
     ]
    }
   ],
   "source": [
    "%%time\n",
    "#transformação do df para 3 componentes:\n",
    "prcomp = PCA(n_components=3).fit(X_train)\n",
    "\n",
    "pc_treino = prcomp.transform(X_train)\n",
    "pc_teste  = prcomp.transform(X_test)"
   ]
  },
  {
   "cell_type": "code",
   "execution_count": 328,
   "metadata": {},
   "outputs": [
    {
     "name": "stdout",
     "output_type": "stream",
     "text": [
      "DataFrame de Treino:\n",
      "        cp1       cp2       cp3\n",
      "0 -5.520280 -0.290278 -1.529929\n",
      "1 -5.535350 -0.082530 -1.924804\n",
      "2 -5.474988  0.287387 -2.144642\n",
      "3 -5.677232  0.897031 -2.018220\n",
      "4 -5.748749  1.162952 -2.139533\n",
      "\n",
      "DataFrame de Teste:\n",
      "        cp1       cp2       cp3\n",
      "0 -2.686743 -1.216821 -0.722075\n",
      "1 -4.331255 -0.766327 -1.128404\n",
      "2 -4.985360  0.371301 -1.656858\n",
      "3 -5.099876  0.243743 -1.802703\n",
      "4 -5.023000 -0.518739 -1.871078\n"
     ]
    }
   ],
   "source": [
    "#exibindo os componentes criados:\n",
    "df3= pca_qtd(X_train, X_test, n=3)\n",
    "df3"
   ]
  },
  {
   "cell_type": "code",
   "execution_count": 330,
   "metadata": {},
   "outputs": [
    {
     "data": {
      "text/html": [
       "<div>\n",
       "<style scoped>\n",
       "    .dataframe tbody tr th:only-of-type {\n",
       "        vertical-align: middle;\n",
       "    }\n",
       "\n",
       "    .dataframe tbody tr th {\n",
       "        vertical-align: top;\n",
       "    }\n",
       "\n",
       "    .dataframe thead th {\n",
       "        text-align: right;\n",
       "    }\n",
       "</style>\n",
       "<table border=\"1\" class=\"dataframe\">\n",
       "  <thead>\n",
       "    <tr style=\"text-align: right;\">\n",
       "      <th></th>\n",
       "      <th>Component</th>\n",
       "      <th>Variable</th>\n",
       "      <th>Loading</th>\n",
       "    </tr>\n",
       "  </thead>\n",
       "  <tbody>\n",
       "    <tr>\n",
       "      <th>0</th>\n",
       "      <td>PC1</td>\n",
       "      <td>281 fBodyAcc-sma()</td>\n",
       "      <td>0.058571</td>\n",
       "    </tr>\n",
       "    <tr>\n",
       "      <th>1</th>\n",
       "      <td>PC1</td>\n",
       "      <td>360 fBodyAccJerk-sma()</td>\n",
       "      <td>0.058568</td>\n",
       "    </tr>\n",
       "    <tr>\n",
       "      <th>2</th>\n",
       "      <td>PC1</td>\n",
       "      <td>96 tBodyAccJerk-sma()</td>\n",
       "      <td>0.058538</td>\n",
       "    </tr>\n",
       "    <tr>\n",
       "      <th>3</th>\n",
       "      <td>PC2</td>\n",
       "      <td>296 fBodyAcc-meanFreq()-Z</td>\n",
       "      <td>0.122385</td>\n",
       "    </tr>\n",
       "    <tr>\n",
       "      <th>4</th>\n",
       "      <td>PC2</td>\n",
       "      <td>249 tBodyGyroMag-arCoeff()1</td>\n",
       "      <td>0.119783</td>\n",
       "    </tr>\n",
       "    <tr>\n",
       "      <th>5</th>\n",
       "      <td>PC2</td>\n",
       "      <td>210 tBodyAccMag-arCoeff()1</td>\n",
       "      <td>0.118162</td>\n",
       "    </tr>\n",
       "    <tr>\n",
       "      <th>6</th>\n",
       "      <td>PC3</td>\n",
       "      <td>57 tGravityAcc-energy()-X</td>\n",
       "      <td>0.110061</td>\n",
       "    </tr>\n",
       "    <tr>\n",
       "      <th>7</th>\n",
       "      <td>PC3</td>\n",
       "      <td>66 tGravityAcc-arCoeff()-X,1</td>\n",
       "      <td>0.109914</td>\n",
       "    </tr>\n",
       "    <tr>\n",
       "      <th>8</th>\n",
       "      <td>PC3</td>\n",
       "      <td>64 tGravityAcc-entropy()-Y</td>\n",
       "      <td>0.109555</td>\n",
       "    </tr>\n",
       "  </tbody>\n",
       "</table>\n",
       "</div>"
      ],
      "text/plain": [
       "  Component                      Variable   Loading\n",
       "0       PC1            281 fBodyAcc-sma()  0.058571\n",
       "1       PC1        360 fBodyAccJerk-sma()  0.058568\n",
       "2       PC1         96 tBodyAccJerk-sma()  0.058538\n",
       "3       PC2     296 fBodyAcc-meanFreq()-Z  0.122385\n",
       "4       PC2   249 tBodyGyroMag-arCoeff()1  0.119783\n",
       "5       PC2    210 tBodyAccMag-arCoeff()1  0.118162\n",
       "6       PC3     57 tGravityAcc-energy()-X  0.110061\n",
       "7       PC3  66 tGravityAcc-arCoeff()-X,1  0.109914\n",
       "8       PC3    64 tGravityAcc-entropy()-Y  0.109555"
      ]
     },
     "execution_count": 330,
     "metadata": {},
     "output_type": "execute_result"
    }
   ],
   "source": [
    "significante_variavel_(X_train, 3, top_n=3)"
   ]
  },
  {
   "cell_type": "code",
   "execution_count": 332,
   "metadata": {},
   "outputs": [
    {
     "name": "stdout",
     "output_type": "stream",
     "text": [
      "CPU times: total: 62.5 ms\n",
      "Wall time: 47.5 ms\n"
     ]
    }
   ],
   "source": [
    "%%time\n",
    "clf3 = DecisionTreeClassifier(random_state=1234, ccp_alpha=0.001).fit(pc_treino, y_train)"
   ]
  },
  {
   "cell_type": "code",
   "execution_count": 334,
   "metadata": {},
   "outputs": [
    {
     "data": {
      "text/plain": [
       "{'Acurácia na base de treino': 0.78,\n",
       " 'Acurácia na base de teste': 0.754,\n",
       " 'Acurácia média da validação cruzada': 0.715,\n",
       " 'Desvio padrão da validação cruzada': 0.037}"
      ]
     },
     "execution_count": 334,
     "metadata": {},
     "output_type": "execute_result"
    }
   ],
   "source": [
    "metricas_avaliacao(clf3, pc_treino, y_train, pc_teste, y_test)"
   ]
  },
  {
   "cell_type": "markdown",
   "metadata": {},
   "source": [
    "Com 3 componentes tivemos um aumento legal na acurácia e o nosso tempo ainda é muito bom, 112 vezes mais rápido se comparado ao modelo performando com todas as variáveis. "
   ]
  },
  {
   "cell_type": "markdown",
   "metadata": {},
   "source": [
    "#### Transformação do dataframe e obtenção de cinco componentes componentes:"
   ]
  },
  {
   "cell_type": "code",
   "execution_count": 298,
   "metadata": {},
   "outputs": [
    {
     "name": "stdout",
     "output_type": "stream",
     "text": [
      "CPU times: total: 625 ms\n",
      "Wall time: 134 ms\n"
     ]
    }
   ],
   "source": [
    "%%time\n",
    "#transformação do df para 5 componentes:\n",
    "prcomp = PCA(n_components=5).fit(X_train)\n",
    "\n",
    "pc_treino = prcomp.transform(X_train)\n",
    "pc_teste  = prcomp.transform(X_test)"
   ]
  },
  {
   "cell_type": "code",
   "execution_count": 178,
   "metadata": {},
   "outputs": [
    {
     "name": "stdout",
     "output_type": "stream",
     "text": [
      "DataFrame de Treino:\n",
      "        cp1       cp2       cp3\n",
      "0 -5.520280 -0.290278 -1.529929\n",
      "1 -5.535350 -0.082530 -1.924804\n",
      "2 -5.474988  0.287387 -2.144642\n",
      "3 -5.677232  0.897031 -2.018220\n",
      "4 -5.748749  1.162952 -2.139533\n",
      "\n",
      "DataFrame de Teste:\n",
      "        cp1       cp2       cp3\n",
      "0 -2.686743 -1.216821 -0.722075\n",
      "1 -4.331255 -0.766327 -1.128404\n",
      "2 -4.985360  0.371301 -1.656858\n",
      "3 -5.099876  0.243743 -1.802703\n",
      "4 -5.023000 -0.518739 -1.871078\n"
     ]
    }
   ],
   "source": [
    "df5= pca_qtd(X_train, X_test, n=3)\n",
    "df5"
   ]
  },
  {
   "cell_type": "code",
   "execution_count": 288,
   "metadata": {},
   "outputs": [
    {
     "data": {
      "text/html": [
       "<div>\n",
       "<style scoped>\n",
       "    .dataframe tbody tr th:only-of-type {\n",
       "        vertical-align: middle;\n",
       "    }\n",
       "\n",
       "    .dataframe tbody tr th {\n",
       "        vertical-align: top;\n",
       "    }\n",
       "\n",
       "    .dataframe thead th {\n",
       "        text-align: right;\n",
       "    }\n",
       "</style>\n",
       "<table border=\"1\" class=\"dataframe\">\n",
       "  <thead>\n",
       "    <tr style=\"text-align: right;\">\n",
       "      <th></th>\n",
       "      <th>Component</th>\n",
       "      <th>Variable</th>\n",
       "      <th>Loading</th>\n",
       "    </tr>\n",
       "  </thead>\n",
       "  <tbody>\n",
       "    <tr>\n",
       "      <th>0</th>\n",
       "      <td>PC1</td>\n",
       "      <td>281 fBodyAcc-sma()</td>\n",
       "      <td>0.058571</td>\n",
       "    </tr>\n",
       "    <tr>\n",
       "      <th>1</th>\n",
       "      <td>PC1</td>\n",
       "      <td>360 fBodyAccJerk-sma()</td>\n",
       "      <td>0.058568</td>\n",
       "    </tr>\n",
       "    <tr>\n",
       "      <th>2</th>\n",
       "      <td>PC1</td>\n",
       "      <td>96 tBodyAccJerk-sma()</td>\n",
       "      <td>0.058538</td>\n",
       "    </tr>\n",
       "    <tr>\n",
       "      <th>3</th>\n",
       "      <td>PC2</td>\n",
       "      <td>296 fBodyAcc-meanFreq()-Z</td>\n",
       "      <td>0.122385</td>\n",
       "    </tr>\n",
       "    <tr>\n",
       "      <th>4</th>\n",
       "      <td>PC2</td>\n",
       "      <td>249 tBodyGyroMag-arCoeff()1</td>\n",
       "      <td>0.119783</td>\n",
       "    </tr>\n",
       "    <tr>\n",
       "      <th>5</th>\n",
       "      <td>PC2</td>\n",
       "      <td>210 tBodyAccMag-arCoeff()1</td>\n",
       "      <td>0.118162</td>\n",
       "    </tr>\n",
       "    <tr>\n",
       "      <th>6</th>\n",
       "      <td>PC3</td>\n",
       "      <td>57 tGravityAcc-energy()-X</td>\n",
       "      <td>0.110061</td>\n",
       "    </tr>\n",
       "    <tr>\n",
       "      <th>7</th>\n",
       "      <td>PC3</td>\n",
       "      <td>66 tGravityAcc-arCoeff()-X,1</td>\n",
       "      <td>0.109915</td>\n",
       "    </tr>\n",
       "    <tr>\n",
       "      <th>8</th>\n",
       "      <td>PC3</td>\n",
       "      <td>64 tGravityAcc-entropy()-Y</td>\n",
       "      <td>0.109555</td>\n",
       "    </tr>\n",
       "    <tr>\n",
       "      <th>9</th>\n",
       "      <td>PC4</td>\n",
       "      <td>52 tGravityAcc-max()-Z</td>\n",
       "      <td>0.143971</td>\n",
       "    </tr>\n",
       "    <tr>\n",
       "      <th>10</th>\n",
       "      <td>PC4</td>\n",
       "      <td>43 tGravityAcc-mean()-Z</td>\n",
       "      <td>0.141018</td>\n",
       "    </tr>\n",
       "    <tr>\n",
       "      <th>11</th>\n",
       "      <td>PC4</td>\n",
       "      <td>561 angle(Z,gravityMean)</td>\n",
       "      <td>0.139936</td>\n",
       "    </tr>\n",
       "    <tr>\n",
       "      <th>12</th>\n",
       "      <td>PC5</td>\n",
       "      <td>559 angle(X,gravityMean)</td>\n",
       "      <td>0.167573</td>\n",
       "    </tr>\n",
       "    <tr>\n",
       "      <th>13</th>\n",
       "      <td>PC5</td>\n",
       "      <td>57 tGravityAcc-energy()-X</td>\n",
       "      <td>0.165246</td>\n",
       "    </tr>\n",
       "    <tr>\n",
       "      <th>14</th>\n",
       "      <td>PC5</td>\n",
       "      <td>50 tGravityAcc-max()-X</td>\n",
       "      <td>0.162366</td>\n",
       "    </tr>\n",
       "  </tbody>\n",
       "</table>\n",
       "</div>"
      ],
      "text/plain": [
       "   Component                      Variable   Loading\n",
       "0        PC1            281 fBodyAcc-sma()  0.058571\n",
       "1        PC1        360 fBodyAccJerk-sma()  0.058568\n",
       "2        PC1         96 tBodyAccJerk-sma()  0.058538\n",
       "3        PC2     296 fBodyAcc-meanFreq()-Z  0.122385\n",
       "4        PC2   249 tBodyGyroMag-arCoeff()1  0.119783\n",
       "5        PC2    210 tBodyAccMag-arCoeff()1  0.118162\n",
       "6        PC3     57 tGravityAcc-energy()-X  0.110061\n",
       "7        PC3  66 tGravityAcc-arCoeff()-X,1  0.109915\n",
       "8        PC3    64 tGravityAcc-entropy()-Y  0.109555\n",
       "9        PC4        52 tGravityAcc-max()-Z  0.143971\n",
       "10       PC4       43 tGravityAcc-mean()-Z  0.141018\n",
       "11       PC4      561 angle(Z,gravityMean)  0.139936\n",
       "12       PC5      559 angle(X,gravityMean)  0.167573\n",
       "13       PC5     57 tGravityAcc-energy()-X  0.165246\n",
       "14       PC5        50 tGravityAcc-max()-X  0.162366"
      ]
     },
     "execution_count": 288,
     "metadata": {},
     "output_type": "execute_result"
    }
   ],
   "source": [
    "#exibindo os componentes criados:\n",
    "significante_variavel_(X_train, 5, top_n=3)"
   ]
  },
  {
   "cell_type": "code",
   "execution_count": 341,
   "metadata": {},
   "outputs": [
    {
     "name": "stdout",
     "output_type": "stream",
     "text": [
      "CPU times: total: 31.2 ms\n",
      "Wall time: 28.5 ms\n"
     ]
    }
   ],
   "source": [
    "%%time\n",
    "clf5 = DecisionTreeClassifier(random_state=1234, ccp_alpha=0.001).fit(pc_treino, y_train)"
   ]
  },
  {
   "cell_type": "markdown",
   "metadata": {},
   "source": [
    "metricas_avaliacao(clf5, pc_treino, y_train, pc_teste, y_test)\n"
   ]
  },
  {
   "cell_type": "markdown",
   "metadata": {},
   "source": [
    "Em relação ao número de componentes anterior, tivemos uma melhora nas métricas, mas também um aumento do desvio padrão mas este continua em um valor legal e o nosso tempo continua muito bom."
   ]
  },
  {
   "cell_type": "markdown",
   "metadata": {},
   "source": [
    "________________________________________________________________________________________________________________________________________________________"
   ]
  },
  {
   "cell_type": "markdown",
   "metadata": {},
   "source": [
    "Continuaremos testando alguns outros números de componentes, mas aqui nos atentaremos apenas as métricas, mas caso sinta curiosidade de visualizar os novos componentes criados ou então as principais variáveis para esses componentes, fique a vontade e utilize a função metricas_avaliacao."
   ]
  },
  {
   "cell_type": "markdown",
   "metadata": {},
   "source": [
    "#### Obtenção da acurácia de dez componentes componentes:"
   ]
  },
  {
   "cell_type": "code",
   "execution_count": 349,
   "metadata": {},
   "outputs": [
    {
     "name": "stdout",
     "output_type": "stream",
     "text": [
      "CPU times: total: 438 ms\n",
      "Wall time: 191 ms\n"
     ]
    }
   ],
   "source": [
    "%%time\n",
    "#transformação do df para 10 componentes:\n",
    "prcomp = PCA(n_components=10).fit(X_train)\n",
    "\n",
    "pc_treino = prcomp.transform(X_train)\n",
    "pc_teste  = prcomp.transform(X_test)"
   ]
  },
  {
   "cell_type": "code",
   "execution_count": 357,
   "metadata": {},
   "outputs": [
    {
     "name": "stdout",
     "output_type": "stream",
     "text": [
      "CPU times: total: 125 ms\n",
      "Wall time: 101 ms\n"
     ]
    }
   ],
   "source": [
    "%%time\n",
    "clf10 = DecisionTreeClassifier(random_state=1234, ccp_alpha=0.001).fit(pc_treino, y_train)"
   ]
  },
  {
   "cell_type": "code",
   "execution_count": 355,
   "metadata": {},
   "outputs": [
    {
     "data": {
      "text/plain": [
       "{'Acurácia na base de treino': 0.893,\n",
       " 'Acurácia na base de teste': 0.824,\n",
       " 'Acurácia média da validação cruzada': 0.794,\n",
       " 'Desvio padrão da validação cruzada': 0.045}"
      ]
     },
     "execution_count": 355,
     "metadata": {},
     "output_type": "execute_result"
    }
   ],
   "source": [
    "metricas_avaliacao(clf10, pc_treino, y_train, pc_teste, y_test)"
   ]
  },
  {
   "cell_type": "markdown",
   "metadata": {},
   "source": [
    "Agora nosso tempo é pouco mais que 3 vezes maior que o tempo de processamento para 5 componentes, mas ainda é muito favorável em relação à árvore testada com todas as variáveis. A performance aqui também é boa, sendo superior à anterior."
   ]
  },
  {
   "cell_type": "markdown",
   "metadata": {},
   "source": [
    "#### Obtenção da acurácia de cinquenta componentes:"
   ]
  },
  {
   "cell_type": "code",
   "execution_count": 302,
   "metadata": {},
   "outputs": [
    {
     "name": "stdout",
     "output_type": "stream",
     "text": [
      "CPU times: total: 844 ms\n",
      "Wall time: 226 ms\n"
     ]
    }
   ],
   "source": [
    "%%time\n",
    "#transformação do df para 50 componentes:\n",
    "prcomp = PCA(n_components=50).fit(X_train)\n",
    "\n",
    "pc_treino = prcomp.transform(X_train)\n",
    "pc_teste  = prcomp.transform(X_test)"
   ]
  },
  {
   "cell_type": "code",
   "execution_count": 365,
   "metadata": {},
   "outputs": [
    {
     "name": "stdout",
     "output_type": "stream",
     "text": [
      "CPU times: total: 141 ms\n",
      "Wall time: 139 ms\n"
     ]
    }
   ],
   "source": [
    "%%time\n",
    "clf50 = DecisionTreeClassifier(random_state=1234, ccp_alpha=0.001).fit(pc_treino, y_train)"
   ]
  },
  {
   "cell_type": "code",
   "execution_count": 367,
   "metadata": {},
   "outputs": [
    {
     "data": {
      "text/plain": [
       "{'Acurácia na base de treino': 0.893,\n",
       " 'Acurácia na base de teste': 0.824,\n",
       " 'Acurácia média da validação cruzada': 0.794,\n",
       " 'Desvio padrão da validação cruzada': 0.045}"
      ]
     },
     "execution_count": 367,
     "metadata": {},
     "output_type": "execute_result"
    }
   ],
   "source": [
    "metricas_avaliacao(clf50, pc_treino, y_train, pc_teste, y_test)"
   ]
  },
  {
   "cell_type": "markdown",
   "metadata": {},
   "source": []
  },
  {
   "cell_type": "markdown",
   "metadata": {},
   "source": [
    "Pudemos perceber aqui que nossa acurácia foi aumentando conforme o número de componentes mas também o nosso tempo. Há uma relação de aumento de complexidade mas também aumento de custo. Obtivemos com 50 componentes um resultado muito satisfatório, uma vez que nosso desvio padrão é baixo e nos garante consistencia nos dados e nossa acurácia de validação cruzada é quase 80%. Perdemos entre 5 e 6% de acurácia sobre o df original mas ganhamos um processamento 38x mais rápido. **Concluímos aqui que há compensação em utilizar a redução de dimensionalidade.**"
   ]
  },
  {
   "cell_type": "markdown",
   "metadata": {},
   "source": [
    "## Utilizando GridSearch:"
   ]
  },
  {
   "cell_type": "markdown",
   "metadata": {},
   "source": [
    "Há uma maneira de tornar o processo acima ainda mais rápido, que é utilizando o GridSearch para encontrar o melhor número de componentes. Vejamos:"
   ]
  },
  {
   "cell_type": "code",
   "execution_count": 385,
   "metadata": {},
   "outputs": [
    {
     "name": "stdout",
     "output_type": "stream",
     "text": [
      "Melhores parâmetros: {'pca__n_components': 60}\n",
      "Melhor acurácia: 0.7661901524715937\n"
     ]
    }
   ],
   "source": [
    "import numpy as np\n",
    "import pandas as pd\n",
    "from sklearn.decomposition import PCA\n",
    "from sklearn.model_selection import train_test_split, GridSearchCV\n",
    "from sklearn.tree import DecisionTreeClassifier\n",
    "from sklearn.pipeline import Pipeline\n",
    "from sklearn.preprocessing import StandardScaler\n",
    "\n",
    "# Supondo que você já tenha os dados preparados\n",
    "X = X_train  # seu dataframe\n",
    "y = y_train  # seu vetor de classes\n",
    "\n",
    "# Definindo o pipeline\n",
    "pipeline = Pipeline([\n",
    "    ('scaler', StandardScaler()),  # Normalização dos dados\n",
    "    ('pca', PCA()),  # PCA será ajustado pelo GridSearch\n",
    "    ('classifier', DecisionTreeClassifier(random_state=1234, ccp_alpha=0.001))  # Classificador\n",
    "])\n",
    "\n",
    "# Definindo o parâmetro para o GridSearch\n",
    "param_grid = {\n",
    "    'pca__n_components': [1, 2, 3, 5, 10, 50, 60, 80, 100],  # Números de componentes principais\n",
    "}\n",
    "\n",
    "# Configurando o GridSearchCV\n",
    "grid_search = GridSearchCV(pipeline, param_grid, cv=5, scoring='accuracy', n_jobs=-1)\n",
    "\n",
    "# Executando o GridSearch\n",
    "grid_search.fit(X, y)\n",
    "\n",
    "# Resultados\n",
    "print(\"Melhores parâmetros:\", grid_search.best_params_)\n",
    "print(\"Melhor acurácia:\", grid_search.best_score_)\n"
   ]
  },
  {
   "cell_type": "markdown",
   "metadata": {},
   "source": [
    "Obtivemos aqui que a melhor árvore é com 60 componentes. Vamos imprimir as métricas:"
   ]
  },
  {
   "cell_type": "code",
   "execution_count": 392,
   "metadata": {},
   "outputs": [
    {
     "name": "stdout",
     "output_type": "stream",
     "text": [
      "CPU times: total: 938 ms\n",
      "Wall time: 209 ms\n"
     ]
    }
   ],
   "source": [
    "%%time\n",
    "#transformação do df para 50 componentes:\n",
    "prcomp = PCA(n_components=50).fit(X_train)\n",
    "\n",
    "pc_treino = prcomp.transform(X_train)\n",
    "pc_teste  = prcomp.transform(X_test)"
   ]
  },
  {
   "cell_type": "code",
   "execution_count": 394,
   "metadata": {},
   "outputs": [
    {
     "name": "stdout",
     "output_type": "stream",
     "text": [
      "CPU times: total: 391 ms\n",
      "Wall time: 377 ms\n"
     ]
    }
   ],
   "source": [
    "%%time\n",
    "clf60 = DecisionTreeClassifier(random_state=1234, ccp_alpha=0.001).fit(pc_treino, y_train)"
   ]
  },
  {
   "cell_type": "code",
   "execution_count": 396,
   "metadata": {},
   "outputs": [
    {
     "data": {
      "text/plain": [
       "{'Acurácia na base de treino': 0.916,\n",
       " 'Acurácia na base de teste': 0.823,\n",
       " 'Acurácia média da validação cruzada': 0.785,\n",
       " 'Desvio padrão da validação cruzada': 0.046}"
      ]
     },
     "execution_count": 396,
     "metadata": {},
     "output_type": "execute_result"
    }
   ],
   "source": [
    "metricas_avaliacao(clf50, pc_treino, y_train, pc_teste, y_test)"
   ]
  },
  {
   "cell_type": "markdown",
   "metadata": {},
   "source": [
    "Resultados também muito satisfatórios. Logo, utilizar a redução de componentes, apesar de diminuir um pouco a acurácia do nosso modelo, traz um custo benefício válido, visto que diminui e muito o tempo de processamento."
   ]
  },
  {
   "cell_type": "code",
   "execution_count": null,
   "metadata": {},
   "outputs": [],
   "source": []
  }
 ],
 "metadata": {
  "kernelspec": {
   "display_name": "Python 3 (ipykernel)",
   "language": "python",
   "name": "python3"
  },
  "language_info": {
   "codemirror_mode": {
    "name": "ipython",
    "version": 3
   },
   "file_extension": ".py",
   "mimetype": "text/x-python",
   "name": "python",
   "nbconvert_exporter": "python",
   "pygments_lexer": "ipython3",
   "version": "3.12.4"
  },
  "toc": {
   "base_numbering": 1,
   "nav_menu": {},
   "number_sections": true,
   "sideBar": true,
   "skip_h1_title": true,
   "title_cell": "Índice",
   "title_sidebar": "Conteúdo",
   "toc_cell": false,
   "toc_position": {},
   "toc_section_display": true,
   "toc_window_display": false
  },
  "varInspector": {
   "cols": {
    "lenName": 16,
    "lenType": 16,
    "lenVar": 40
   },
   "kernels_config": {
    "python": {
     "delete_cmd_postfix": "",
     "delete_cmd_prefix": "del ",
     "library": "var_list.py",
     "varRefreshCmd": "print(var_dic_list())"
    },
    "r": {
     "delete_cmd_postfix": ") ",
     "delete_cmd_prefix": "rm(",
     "library": "var_list.r",
     "varRefreshCmd": "cat(var_dic_list()) "
    }
   },
   "types_to_exclude": [
    "module",
    "function",
    "builtin_function_or_method",
    "instance",
    "_Feature"
   ],
   "window_display": false
  }
 },
 "nbformat": 4,
 "nbformat_minor": 4
}
